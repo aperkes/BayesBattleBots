{
 "cells": [
  {
   "cell_type": "markdown",
   "id": "31d9016f",
   "metadata": {
    "id": "d004a545"
   },
   "source": [
    "## Welcome to Bayes' Battle Bots\n",
    "This is a notebook to flesh out a model for Bayesian updating. It might get moved into scripts eventually\n",
    "\n",
    "*Use auc to normalize scale the posterior so that the cdf sums to 1. \n",
    "(You can also use np.sum(), the auc aproximates a real cdf, but sum might be faster)\n",
    "\n",
    "*All the bayesian code already exists in a jupyter notebook on your laptop called Sand. Transfer it over. "
   ]
  },
  {
   "cell_type": "code",
   "execution_count": 79,
   "id": "3c0ed6a7",
   "metadata": {},
   "outputs": [
    {
     "name": "stdout",
     "output_type": "stream",
     "text": [
      "46.2625250501002\n",
      "0.06534902909048068\n"
     ]
    },
    {
     "name": "stderr",
     "output_type": "stream",
     "text": [
      "/tmp/ipykernel_277914/3333273595.py:16: UserWarning:\n",
      "\n",
      "Matplotlib is currently using module://matplotlib_inline.backend_inline, which is a non-GUI backend, so cannot show the figure.\n",
      "\n"
     ]
    },
    {
     "data": {
      "image/png": "[encoded data removed]",
      "text/plain": [
       "<Figure size 432x288 with 1 Axes>"
      ]
     },
     "metadata": {
      "needs_background": "light"
     },
     "output_type": "display_data"
    }
   ],
   "source": [
    "from fish import Fish\n",
    "from matplotlib import pyplot as plt\n",
    "\n",
    "f1 = Fish()\n",
    "\n",
    "\n",
    "fig,ax = plt.subplots()\n",
    "\n",
    "ax.plot(f1.xs,f1.prior*100)\n",
    "ax.plot(f1.xs,f1.cdf_prior)\n",
    "\n",
    "cutoff = 60\n",
    "print(f1.estimate)\n",
    "print(1 - f1.cdf_prior[np.argmax(f1.xs > cutoff)])\n",
    "ax.axvline(cutoff,color='black')\n",
    "fig.show()"
   ]
  },
  {
   "cell_type": "code",
   "execution_count": 2,
   "id": "526e6dfa",
   "metadata": {},
   "outputs": [],
   "source": [
    "import plotly.express as px\n",
    "import numpy as np\n",
    "import pandas as pd"
   ]
  },
  {
   "cell_type": "code",
   "execution_count": 31,
   "id": "ff2ba9e6",
   "metadata": {},
   "outputs": [
    {
     "name": "stdout",
     "output_type": "stream",
     "text": [
      "(6, 6, 6, 3)\n"
     ]
    }
   ],
   "source": [
    "output = np.load('./results_SA.npy')\n",
    "print(output.shape)\n",
    "\n",
    "#even_list = [0,.25,.50,.75,1]\n",
    "even_list = [0,.2,.4,.6,.8,1]\n",
    "luck_list = [0,.05,0.1,0.2,0.3,0.5]\n",
    "\n",
    "data_list = []\n",
    "point_list = []\n",
    "for i in range(6):\n",
    "    for j in range(6):\n",
    "        for k in range(6):\n",
    "            if even_list[i] + even_list[j] + luck_list[k] > 1:\n",
    "                continue\n",
    "            [lin,const,acc] = output[i,j,k]\n",
    "            data_list.append([even_list[i],even_list[j],even_list[k],lin,const,acc])\n",
    "            point_list.append([even_list[i],even_list[j],even_list[k]])\n",
    "test_df = pd.DataFrame(data_list,columns=['skill','effort','luck',\n",
    "                                          'linearity','stability','accuracy'])"
   ]
  },
  {
   "cell_type": "code",
   "execution_count": 30,
   "id": "8a0cd8bb",
   "metadata": {},
   "outputs": [
    {
     "data": {
      "application/vnd.plotly.v1+json": {
       "config": {
        "plotlyServerURL": "https://plot.ly"
       },
       "data": [
        {
         "a": [
          0,
          0,
          0,
          0,
          0,
          0,
          0,
          0,
          0,
          0,
          0,
          0,
          0,
          0,
          0,
          0,
          0,
          0,
          0,
          0,
          0,
          0,
          0,
          0,
          0,
          0,
          0,
          0,
          0.2,
          0.2,
          0.2,
          0.2,
          0.2,
          0.2,
          0.2,
          0.2,
          0.2,
          0.2,
          0.2,
          0.2,
          0.2,
          0.2,
          0.2,
          0.2,
          0.2,
          0.2,
          0.2,
          0.2,
          0.2,
          0.2,
          0.4,
          0.4,
          0.4,
          0.4,
          0.4,
          0.4,
          0.4,
          0.4,
          0.4,
          0.4,
          0.4,
          0.4,
          0.4,
          0.4,
          0.4,
          0.4,
          0.6,
          0.6,
          0.6,
          0.6,
          0.6,
          0.6,
          0.6,
          0.6,
          0.6,
          0.6,
          0.8,
          0.8,
          0.8,
          0.8,
          0.8,
          1
         ],
         "b": [
          0,
          0,
          0,
          0,
          0,
          0,
          0.2,
          0.2,
          0.2,
          0.2,
          0.2,
          0.2,
          0.4,
          0.4,
          0.4,
          0.4,
          0.4,
          0.4,
          0.6,
          0.6,
          0.6,
          0.6,
          0.6,
          0.8,
          0.8,
          0.8,
          0.8,
          1,
          0,
          0,
          0,
          0,
          0,
          0,
          0.2,
          0.2,
          0.2,
          0.2,
          0.2,
          0.2,
          0.4,
          0.4,
          0.4,
          0.4,
          0.4,
          0.6,
          0.6,
          0.6,
          0.6,
          0.8,
          0,
          0,
          0,
          0,
          0,
          0,
          0.2,
          0.2,
          0.2,
          0.2,
          0.2,
          0.4,
          0.4,
          0.4,
          0.4,
          0.6,
          0,
          0,
          0,
          0,
          0,
          0.2,
          0.2,
          0.2,
          0.2,
          0.4,
          0,
          0,
          0,
          0,
          0.2,
          0
         ],
         "c": [
          0,
          0.2,
          0.4,
          0.6,
          0.8,
          1,
          0,
          0.2,
          0.4,
          0.6,
          0.8,
          1,
          0,
          0.2,
          0.4,
          0.6,
          0.8,
          1,
          0,
          0.2,
          0.4,
          0.6,
          0.8,
          0,
          0.2,
          0.4,
          0.6,
          0,
          0,
          0.2,
          0.4,
          0.6,
          0.8,
          1,
          0,
          0.2,
          0.4,
          0.6,
          0.8,
          1,
          0,
          0.2,
          0.4,
          0.6,
          0.8,
          0,
          0.2,
          0.4,
          0.6,
          0,
          0,
          0.2,
          0.4,
          0.6,
          0.8,
          1,
          0,
          0.2,
          0.4,
          0.6,
          0.8,
          0,
          0.2,
          0.4,
          0.6,
          0,
          0,
          0.2,
          0.4,
          0.6,
          0.8,
          0,
          0.2,
          0.4,
          0.6,
          0,
          0,
          0.2,
          0.4,
          0.6,
          0,
          0
         ],
         "hovertemplate": "skill=%{a}<br>effort=%{b}<br>luck=%{c}<br>stability=%{marker.color}<extra></extra>",
         "legendgroup": "",
         "marker": {
          "color": [
           0.8214285714285715,
           0.846031746031746,
           0.8515873015873014,
           0.8436507936507938,
           0.8317460317460318,
           0.8301587301587302,
           0.9960317460317459,
           0.8412698412698413,
           0.8444444444444446,
           0.8317460317460318,
           0.8499999999999999,
           0.8476190476190477,
           0.9904761904761903,
           0.8833333333333331,
           0.8722222222222222,
           0.8555555555555556,
           0.861904761904762,
           0.8571428571428572,
           0.9896825396825394,
           0.9182539682539682,
           0.8841269841269842,
           0.8642857142857142,
           0.8452380952380952,
           0.9952380952380951,
           0.9309523809523808,
           0.9063492063492063,
           0.888888888888889,
           0.9873015873015871,
           1,
           0.8626984126984126,
           0.8642857142857144,
           0.8484126984126983,
           0.8428571428571429,
           0.8309523809523809,
           0.9920634920634922,
           0.8738095238095238,
           0.8388888888888888,
           0.8420634920634921,
           0.8404761904761905,
           0.8309523809523809,
           0.992063492063492,
           0.8992063492063491,
           0.8706349206349207,
           0.8626984126984125,
           0.8499999999999999,
           0.9952380952380951,
           0.9174603174603175,
           0.8904761904761904,
           0.8571428571428572,
           0.9936507936507935,
           1,
           0.8547619047619047,
           0.8539682539682539,
           0.8444444444444444,
           0.830952380952381,
           0.8373015873015874,
           0.9968253968253968,
           0.8928571428571429,
           0.8714285714285714,
           0.8587301587301587,
           0.8396825396825396,
           0.9960317460317459,
           0.9126984126984127,
           0.8825396825396826,
           0.8492063492063493,
           0.9976190476190477,
           1,
           0.8753968253968255,
           0.8547619047619048,
           0.8658730158730158,
           0.8460317460317462,
           0.9960317460317457,
           0.8833333333333334,
           0.8698412698412699,
           0.8476190476190478,
           0.9912698412698412,
           1,
           0.8841269841269842,
           0.8658730158730158,
           0.8698412698412699,
           0.9976190476190477,
           1
          ],
          "coloraxis": "coloraxis",
          "size": 15,
          "symbol": "circle"
         },
         "mode": "markers",
         "name": "",
         "showlegend": false,
         "subplot": "ternary",
         "type": "scatterternary"
        }
       ],
       "layout": {
        "coloraxis": {
         "colorbar": {
          "title": {
           "text": "stability"
          }
         },
         "colorscale": [
          [
           0,
           "#0d0887"
          ],
          [
           0.1111111111111111,
           "#46039f"
          ],
          [
           0.2222222222222222,
           "#7201a8"
          ],
          [
           0.3333333333333333,
           "#9c179e"
          ],
          [
           0.4444444444444444,
           "#bd3786"
          ],
          [
           0.5555555555555556,
           "#d8576b"
          ],
          [
           0.6666666666666666,
           "#ed7953"
          ],
          [
           0.7777777777777778,
           "#fb9f3a"
          ],
          [
           0.8888888888888888,
           "#fdca26"
          ],
          [
           1,
           "#f0f921"
          ]
         ]
        },
        "legend": {
         "tracegroupgap": 0
        },
        "margin": {
         "t": 60
        },
        "template": {
         "data": {
          "bar": [
           {
            "error_x": {
             "color": "#2a3f5f"
            },
            "error_y": {
             "color": "#2a3f5f"
            },
            "marker": {
             "line": {
              "color": "#E5ECF6",
              "width": 0.5
             },
             "pattern": {
              "fillmode": "overlay",
              "size": 10,
              "solidity": 0.2
             }
            },
            "type": "bar"
           }
          ],
          "barpolar": [
           {
            "marker": {
             "line": {
              "color": "#E5ECF6",
              "width": 0.5
             },
             "pattern": {
              "fillmode": "overlay",
              "size": 10,
              "solidity": 0.2
             }
            },
            "type": "barpolar"
           }
          ],
          "carpet": [
           {
            "aaxis": {
             "endlinecolor": "#2a3f5f",
             "gridcolor": "white",
             "linecolor": "white",
             "minorgridcolor": "white",
             "startlinecolor": "#2a3f5f"
            },
            "baxis": {
             "endlinecolor": "#2a3f5f",
             "gridcolor": "white",
             "linecolor": "white",
             "minorgridcolor": "white",
             "startlinecolor": "#2a3f5f"
            },
            "type": "carpet"
           }
          ],
          "choropleth": [
           {
            "colorbar": {
             "outlinewidth": 0,
             "ticks": ""
            },
            "type": "choropleth"
           }
          ],
          "contour": [
           {
            "colorbar": {
             "outlinewidth": 0,
             "ticks": ""
            },
            "colorscale": [
             [
              0,
              "#0d0887"
             ],
             [
              0.1111111111111111,
              "#46039f"
             ],
             [
              0.2222222222222222,
              "#7201a8"
             ],
             [
              0.3333333333333333,
              "#9c179e"
             ],
             [
              0.4444444444444444,
              "#bd3786"
             ],
             [
              0.5555555555555556,
              "#d8576b"
             ],
             [
              0.6666666666666666,
              "#ed7953"
             ],
             [
              0.7777777777777778,
              "#fb9f3a"
             ],
             [
              0.8888888888888888,
              "#fdca26"
             ],
             [
              1,
              "#f0f921"
             ]
            ],
            "type": "contour"
           }
          ],
          "contourcarpet": [
           {
            "colorbar": {
             "outlinewidth": 0,
             "ticks": ""
            },
            "type": "contourcarpet"
           }
          ],
          "heatmap": [
           {
            "colorbar": {
             "outlinewidth": 0,
             "ticks": ""
            },
            "colorscale": [
             [
              0,
              "#0d0887"
             ],
             [
              0.1111111111111111,
              "#46039f"
             ],
             [
              0.2222222222222222,
              "#7201a8"
             ],
             [
              0.3333333333333333,
              "#9c179e"
             ],
             [
              0.4444444444444444,
              "#bd3786"
             ],
             [
              0.5555555555555556,
              "#d8576b"
             ],
             [
              0.6666666666666666,
              "#ed7953"
             ],
             [
              0.7777777777777778,
              "#fb9f3a"
             ],
             [
              0.8888888888888888,
              "#fdca26"
             ],
             [
              1,
              "#f0f921"
             ]
            ],
            "type": "heatmap"
           }
          ],
          "heatmapgl": [
           {
            "colorbar": {
             "outlinewidth": 0,
             "ticks": ""
            },
            "colorscale": [
             [
              0,
              "#0d0887"
             ],
             [
              0.1111111111111111,
              "#46039f"
             ],
             [
              0.2222222222222222,
              "#7201a8"
             ],
             [
              0.3333333333333333,
              "#9c179e"
             ],
             [
              0.4444444444444444,
              "#bd3786"
             ],
             [
              0.5555555555555556,
              "#d8576b"
             ],
             [
              0.6666666666666666,
              "#ed7953"
             ],
             [
              0.7777777777777778,
              "#fb9f3a"
             ],
             [
              0.8888888888888888,
              "#fdca26"
             ],
             [
              1,
              "#f0f921"
             ]
            ],
            "type": "heatmapgl"
           }
          ],
          "histogram": [
           {
            "marker": {
             "pattern": {
              "fillmode": "overlay",
              "size": 10,
              "solidity": 0.2
             }
            },
            "type": "histogram"
           }
          ],
          "histogram2d": [
           {
            "colorbar": {
             "outlinewidth": 0,
             "ticks": ""
            },
            "colorscale": [
             [
              0,
              "#0d0887"
             ],
             [
              0.1111111111111111,
              "#46039f"
             ],
             [
              0.2222222222222222,
              "#7201a8"
             ],
             [
              0.3333333333333333,
              "#9c179e"
             ],
             [
              0.4444444444444444,
              "#bd3786"
             ],
             [
              0.5555555555555556,
              "#d8576b"
             ],
             [
              0.6666666666666666,
              "#ed7953"
             ],
             [
              0.7777777777777778,
              "#fb9f3a"
             ],
             [
              0.8888888888888888,
              "#fdca26"
             ],
             [
              1,
              "#f0f921"
             ]
            ],
            "type": "histogram2d"
           }
          ],
          "histogram2dcontour": [
           {
            "colorbar": {
             "outlinewidth": 0,
             "ticks": ""
            },
            "colorscale": [
             [
              0,
              "#0d0887"
             ],
             [
              0.1111111111111111,
              "#46039f"
             ],
             [
              0.2222222222222222,
              "#7201a8"
             ],
             [
              0.3333333333333333,
              "#9c179e"
             ],
             [
              0.4444444444444444,
              "#bd3786"
             ],
             [
              0.5555555555555556,
              "#d8576b"
             ],
             [
              0.6666666666666666,
              "#ed7953"
             ],
             [
              0.7777777777777778,
              "#fb9f3a"
             ],
             [
              0.8888888888888888,
              "#fdca26"
             ],
             [
              1,
              "#f0f921"
             ]
            ],
            "type": "histogram2dcontour"
           }
          ],
          "mesh3d": [
           {
            "colorbar": {
             "outlinewidth": 0,
             "ticks": ""
            },
            "type": "mesh3d"
           }
          ],
          "parcoords": [
           {
            "line": {
             "colorbar": {
              "outlinewidth": 0,
              "ticks": ""
             }
            },
            "type": "parcoords"
           }
          ],
          "pie": [
           {
            "automargin": true,
            "type": "pie"
           }
          ],
          "scatter": [
           {
            "fillpattern": {
             "fillmode": "overlay",
             "size": 10,
             "solidity": 0.2
            },
            "type": "scatter"
           }
          ],
          "scatter3d": [
           {
            "line": {
             "colorbar": {
              "outlinewidth": 0,
              "ticks": ""
             }
            },
            "marker": {
             "colorbar": {
              "outlinewidth": 0,
              "ticks": ""
             }
            },
            "type": "scatter3d"
           }
          ],
          "scattercarpet": [
           {
            "marker": {
             "colorbar": {
              "outlinewidth": 0,
              "ticks": ""
             }
            },
            "type": "scattercarpet"
           }
          ],
          "scattergeo": [
           {
            "marker": {
             "colorbar": {
              "outlinewidth": 0,
              "ticks": ""
             }
            },
            "type": "scattergeo"
           }
          ],
          "scattergl": [
           {
            "marker": {
             "colorbar": {
              "outlinewidth": 0,
              "ticks": ""
             }
            },
            "type": "scattergl"
           }
          ],
          "scattermapbox": [
           {
            "marker": {
             "colorbar": {
              "outlinewidth": 0,
              "ticks": ""
             }
            },
            "type": "scattermapbox"
           }
          ],
          "scatterpolar": [
           {
            "marker": {
             "colorbar": {
              "outlinewidth": 0,
              "ticks": ""
             }
            },
            "type": "scatterpolar"
           }
          ],
          "scatterpolargl": [
           {
            "marker": {
             "colorbar": {
              "outlinewidth": 0,
              "ticks": ""
             }
            },
            "type": "scatterpolargl"
           }
          ],
          "scatterternary": [
           {
            "marker": {
             "colorbar": {
              "outlinewidth": 0,
              "ticks": ""
             }
            },
            "type": "scatterternary"
           }
          ],
          "surface": [
           {
            "colorbar": {
             "outlinewidth": 0,
             "ticks": ""
            },
            "colorscale": [
             [
              0,
              "#0d0887"
             ],
             [
              0.1111111111111111,
              "#46039f"
             ],
             [
              0.2222222222222222,
              "#7201a8"
             ],
             [
              0.3333333333333333,
              "#9c179e"
             ],
             [
              0.4444444444444444,
              "#bd3786"
             ],
             [
              0.5555555555555556,
              "#d8576b"
             ],
             [
              0.6666666666666666,
              "#ed7953"
             ],
             [
              0.7777777777777778,
              "#fb9f3a"
             ],
             [
              0.8888888888888888,
              "#fdca26"
             ],
             [
              1,
              "#f0f921"
             ]
            ],
            "type": "surface"
           }
          ],
          "table": [
           {
            "cells": {
             "fill": {
              "color": "#EBF0F8"
             },
             "line": {
              "color": "white"
             }
            },
            "header": {
             "fill": {
              "color": "#C8D4E3"
             },
             "line": {
              "color": "white"
             }
            },
            "type": "table"
           }
          ]
         },
         "layout": {
          "annotationdefaults": {
           "arrowcolor": "#2a3f5f",
           "arrowhead": 0,
           "arrowwidth": 1
          },
          "autotypenumbers": "strict",
          "coloraxis": {
           "colorbar": {
            "outlinewidth": 0,
            "ticks": ""
           }
          },
          "colorscale": {
           "diverging": [
            [
             0,
             "#8e0152"
            ],
            [
             0.1,
             "#c51b7d"
            ],
            [
             0.2,
             "#de77ae"
            ],
            [
             0.3,
             "#f1b6da"
            ],
            [
             0.4,
             "#fde0ef"
            ],
            [
             0.5,
             "#f7f7f7"
            ],
            [
             0.6,
             "#e6f5d0"
            ],
            [
             0.7,
             "#b8e186"
            ],
            [
             0.8,
             "#7fbc41"
            ],
            [
             0.9,
             "#4d9221"
            ],
            [
             1,
             "#276419"
            ]
           ],
           "sequential": [
            [
             0,
             "#0d0887"
            ],
            [
             0.1111111111111111,
             "#46039f"
            ],
            [
             0.2222222222222222,
             "#7201a8"
            ],
            [
             0.3333333333333333,
             "#9c179e"
            ],
            [
             0.4444444444444444,
             "#bd3786"
            ],
            [
             0.5555555555555556,
             "#d8576b"
            ],
            [
             0.6666666666666666,
             "#ed7953"
            ],
            [
             0.7777777777777778,
             "#fb9f3a"
            ],
            [
             0.8888888888888888,
             "#fdca26"
            ],
            [
             1,
             "#f0f921"
            ]
           ],
           "sequentialminus": [
            [
             0,
             "#0d0887"
            ],
            [
             0.1111111111111111,
             "#46039f"
            ],
            [
             0.2222222222222222,
             "#7201a8"
            ],
            [
             0.3333333333333333,
             "#9c179e"
            ],
            [
             0.4444444444444444,
             "#bd3786"
            ],
            [
             0.5555555555555556,
             "#d8576b"
            ],
            [
             0.6666666666666666,
             "#ed7953"
            ],
            [
             0.7777777777777778,
             "#fb9f3a"
            ],
            [
             0.8888888888888888,
             "#fdca26"
            ],
            [
             1,
             "#f0f921"
            ]
           ]
          },
          "colorway": [
           "#636efa",
           "#EF553B",
           "#00cc96",
           "#ab63fa",
           "#FFA15A",
           "#19d3f3",
           "#FF6692",
           "#B6E880",
           "#FF97FF",
           "#FECB52"
          ],
          "font": {
           "color": "#2a3f5f"
          },
          "geo": {
           "bgcolor": "white",
           "lakecolor": "white",
           "landcolor": "#E5ECF6",
           "showlakes": true,
           "showland": true,
           "subunitcolor": "white"
          },
          "hoverlabel": {
           "align": "left"
          },
          "hovermode": "closest",
          "mapbox": {
           "style": "light"
          },
          "paper_bgcolor": "white",
          "plot_bgcolor": "#E5ECF6",
          "polar": {
           "angularaxis": {
            "gridcolor": "white",
            "linecolor": "white",
            "ticks": ""
           },
           "bgcolor": "#E5ECF6",
           "radialaxis": {
            "gridcolor": "white",
            "linecolor": "white",
            "ticks": ""
           }
          },
          "scene": {
           "xaxis": {
            "backgroundcolor": "#E5ECF6",
            "gridcolor": "white",
            "gridwidth": 2,
            "linecolor": "white",
            "showbackground": true,
            "ticks": "",
            "zerolinecolor": "white"
           },
           "yaxis": {
            "backgroundcolor": "#E5ECF6",
            "gridcolor": "white",
            "gridwidth": 2,
            "linecolor": "white",
            "showbackground": true,
            "ticks": "",
            "zerolinecolor": "white"
           },
           "zaxis": {
            "backgroundcolor": "#E5ECF6",
            "gridcolor": "white",
            "gridwidth": 2,
            "linecolor": "white",
            "showbackground": true,
            "ticks": "",
            "zerolinecolor": "white"
           }
          },
          "shapedefaults": {
           "line": {
            "color": "#2a3f5f"
           }
          },
          "ternary": {
           "aaxis": {
            "gridcolor": "white",
            "linecolor": "white",
            "ticks": ""
           },
           "baxis": {
            "gridcolor": "white",
            "linecolor": "white",
            "ticks": ""
           },
           "bgcolor": "#E5ECF6",
           "caxis": {
            "gridcolor": "white",
            "linecolor": "white",
            "ticks": ""
           }
          },
          "title": {
           "x": 0.05
          },
          "xaxis": {
           "automargin": true,
           "gridcolor": "white",
           "linecolor": "white",
           "ticks": "",
           "title": {
            "standoff": 15
           },
           "zerolinecolor": "white",
           "zerolinewidth": 2
          },
          "yaxis": {
           "automargin": true,
           "gridcolor": "white",
           "linecolor": "white",
           "ticks": "",
           "title": {
            "standoff": 15
           },
           "zerolinecolor": "white",
           "zerolinewidth": 2
          }
         }
        },
        "ternary": {
         "aaxis": {
          "title": {
           "text": "skill"
          }
         },
         "baxis": {
          "title": {
           "text": "effort"
          }
         },
         "caxis": {
          "title": {
           "text": "luck"
          }
         },
         "domain": {
          "x": [
           0,
           1
          ],
          "y": [
           0,
           1
          ]
         }
        }
       }
      },
      "text/html": [
       "<div>                            <div id=\"ca1a09ec-78f3-4c3d-89fb-c01125e7604c\" class=\"plotly-graph-div\" style=\"height:525px; width:100%;\"></div>            <script type=\"text/javascript\">                require([\"plotly\"], function(Plotly) {                    window.PLOTLYENV=window.PLOTLYENV || {};                                    if (document.getElementById(\"ca1a09ec-78f3-4c3d-89fb-c01125e7604c\")) {                    Plotly.newPlot(                        \"ca1a09ec-78f3-4c3d-89fb-c01125e7604c\",                        [{\"a\":[0.0,0.0,0.0,0.0,0.0,0.0,0.0,0.0,0.0,0.0,0.0,0.0,0.0,0.0,0.0,0.0,0.0,0.0,0.0,0.0,0.0,0.0,0.0,0.0,0.0,0.0,0.0,0.0,0.2,0.2,0.2,0.2,0.2,0.2,0.2,0.2,0.2,0.2,0.2,0.2,0.2,0.2,0.2,0.2,0.2,0.2,0.2,0.2,0.2,0.2,0.4,0.4,0.4,0.4,0.4,0.4,0.4,0.4,0.4,0.4,0.4,0.4,0.4,0.4,0.4,0.4,0.6,0.6,0.6,0.6,0.6,0.6,0.6,0.6,0.6,0.6,0.8,0.8,0.8,0.8,0.8,1.0],\"b\":[0.0,0.0,0.0,0.0,0.0,0.0,0.2,0.2,0.2,0.2,0.2,0.2,0.4,0.4,0.4,0.4,0.4,0.4,0.6,0.6,0.6,0.6,0.6,0.8,0.8,0.8,0.8,1.0,0.0,0.0,0.0,0.0,0.0,0.0,0.2,0.2,0.2,0.2,0.2,0.2,0.4,0.4,0.4,0.4,0.4,0.6,0.6,0.6,0.6,0.8,0.0,0.0,0.0,0.0,0.0,0.0,0.2,0.2,0.2,0.2,0.2,0.4,0.4,0.4,0.4,0.6,0.0,0.0,0.0,0.0,0.0,0.2,0.2,0.2,0.2,0.4,0.0,0.0,0.0,0.0,0.2,0.0],\"c\":[0.0,0.2,0.4,0.6,0.8,1.0,0.0,0.2,0.4,0.6,0.8,1.0,0.0,0.2,0.4,0.6,0.8,1.0,0.0,0.2,0.4,0.6,0.8,0.0,0.2,0.4,0.6,0.0,0.0,0.2,0.4,0.6,0.8,1.0,0.0,0.2,0.4,0.6,0.8,1.0,0.0,0.2,0.4,0.6,0.8,0.0,0.2,0.4,0.6,0.0,0.0,0.2,0.4,0.6,0.8,1.0,0.0,0.2,0.4,0.6,0.8,0.0,0.2,0.4,0.6,0.0,0.0,0.2,0.4,0.6,0.8,0.0,0.2,0.4,0.6,0.0,0.0,0.2,0.4,0.6,0.0,0.0],\"hovertemplate\":\"skill=%{a}<br>effort=%{b}<br>luck=%{c}<br>stability=%{marker.color}<extra></extra>\",\"legendgroup\":\"\",\"marker\":{\"color\":[0.8214285714285715,0.846031746031746,0.8515873015873014,0.8436507936507938,0.8317460317460318,0.8301587301587302,0.9960317460317459,0.8412698412698413,0.8444444444444446,0.8317460317460318,0.8499999999999999,0.8476190476190477,0.9904761904761903,0.8833333333333331,0.8722222222222222,0.8555555555555556,0.861904761904762,0.8571428571428572,0.9896825396825394,0.9182539682539682,0.8841269841269842,0.8642857142857142,0.8452380952380952,0.9952380952380951,0.9309523809523808,0.9063492063492063,0.888888888888889,0.9873015873015871,1.0,0.8626984126984126,0.8642857142857144,0.8484126984126983,0.8428571428571429,0.8309523809523809,0.9920634920634922,0.8738095238095238,0.8388888888888888,0.8420634920634921,0.8404761904761905,0.8309523809523809,0.992063492063492,0.8992063492063491,0.8706349206349207,0.8626984126984125,0.8499999999999999,0.9952380952380951,0.9174603174603175,0.8904761904761904,0.8571428571428572,0.9936507936507935,1.0,0.8547619047619047,0.8539682539682539,0.8444444444444444,0.830952380952381,0.8373015873015874,0.9968253968253968,0.8928571428571429,0.8714285714285714,0.8587301587301587,0.8396825396825396,0.9960317460317459,0.9126984126984127,0.8825396825396826,0.8492063492063493,0.9976190476190477,1.0,0.8753968253968255,0.8547619047619048,0.8658730158730158,0.8460317460317462,0.9960317460317457,0.8833333333333334,0.8698412698412699,0.8476190476190478,0.9912698412698412,1.0,0.8841269841269842,0.8658730158730158,0.8698412698412699,0.9976190476190477,1.0],\"coloraxis\":\"coloraxis\",\"symbol\":\"circle\",\"size\":15},\"mode\":\"markers\",\"name\":\"\",\"showlegend\":false,\"subplot\":\"ternary\",\"type\":\"scatterternary\"}],                        {\"template\":{\"data\":{\"histogram2dcontour\":[{\"type\":\"histogram2dcontour\",\"colorbar\":{\"outlinewidth\":0,\"ticks\":\"\"},\"colorscale\":[[0.0,\"#0d0887\"],[0.1111111111111111,\"#46039f\"],[0.2222222222222222,\"#7201a8\"],[0.3333333333333333,\"#9c179e\"],[0.4444444444444444,\"#bd3786\"],[0.5555555555555556,\"#d8576b\"],[0.6666666666666666,\"#ed7953\"],[0.7777777777777778,\"#fb9f3a\"],[0.8888888888888888,\"#fdca26\"],[1.0,\"#f0f921\"]]}],\"choropleth\":[{\"type\":\"choropleth\",\"colorbar\":{\"outlinewidth\":0,\"ticks\":\"\"}}],\"histogram2d\":[{\"type\":\"histogram2d\",\"colorbar\":{\"outlinewidth\":0,\"ticks\":\"\"},\"colorscale\":[[0.0,\"#0d0887\"],[0.1111111111111111,\"#46039f\"],[0.2222222222222222,\"#7201a8\"],[0.3333333333333333,\"#9c179e\"],[0.4444444444444444,\"#bd3786\"],[0.5555555555555556,\"#d8576b\"],[0.6666666666666666,\"#ed7953\"],[0.7777777777777778,\"#fb9f3a\"],[0.8888888888888888,\"#fdca26\"],[1.0,\"#f0f921\"]]}],\"heatmap\":[{\"type\":\"heatmap\",\"colorbar\":{\"outlinewidth\":0,\"ticks\":\"\"},\"colorscale\":[[0.0,\"#0d0887\"],[0.1111111111111111,\"#46039f\"],[0.2222222222222222,\"#7201a8\"],[0.3333333333333333,\"#9c179e\"],[0.4444444444444444,\"#bd3786\"],[0.5555555555555556,\"#d8576b\"],[0.6666666666666666,\"#ed7953\"],[0.7777777777777778,\"#fb9f3a\"],[0.8888888888888888,\"#fdca26\"],[1.0,\"#f0f921\"]]}],\"heatmapgl\":[{\"type\":\"heatmapgl\",\"colorbar\":{\"outlinewidth\":0,\"ticks\":\"\"},\"colorscale\":[[0.0,\"#0d0887\"],[0.1111111111111111,\"#46039f\"],[0.2222222222222222,\"#7201a8\"],[0.3333333333333333,\"#9c179e\"],[0.4444444444444444,\"#bd3786\"],[0.5555555555555556,\"#d8576b\"],[0.6666666666666666,\"#ed7953\"],[0.7777777777777778,\"#fb9f3a\"],[0.8888888888888888,\"#fdca26\"],[1.0,\"#f0f921\"]]}],\"contourcarpet\":[{\"type\":\"contourcarpet\",\"colorbar\":{\"outlinewidth\":0,\"ticks\":\"\"}}],\"contour\":[{\"type\":\"contour\",\"colorbar\":{\"outlinewidth\":0,\"ticks\":\"\"},\"colorscale\":[[0.0,\"#0d0887\"],[0.1111111111111111,\"#46039f\"],[0.2222222222222222,\"#7201a8\"],[0.3333333333333333,\"#9c179e\"],[0.4444444444444444,\"#bd3786\"],[0.5555555555555556,\"#d8576b\"],[0.6666666666666666,\"#ed7953\"],[0.7777777777777778,\"#fb9f3a\"],[0.8888888888888888,\"#fdca26\"],[1.0,\"#f0f921\"]]}],\"surface\":[{\"type\":\"surface\",\"colorbar\":{\"outlinewidth\":0,\"ticks\":\"\"},\"colorscale\":[[0.0,\"#0d0887\"],[0.1111111111111111,\"#46039f\"],[0.2222222222222222,\"#7201a8\"],[0.3333333333333333,\"#9c179e\"],[0.4444444444444444,\"#bd3786\"],[0.5555555555555556,\"#d8576b\"],[0.6666666666666666,\"#ed7953\"],[0.7777777777777778,\"#fb9f3a\"],[0.8888888888888888,\"#fdca26\"],[1.0,\"#f0f921\"]]}],\"mesh3d\":[{\"type\":\"mesh3d\",\"colorbar\":{\"outlinewidth\":0,\"ticks\":\"\"}}],\"scatter\":[{\"fillpattern\":{\"fillmode\":\"overlay\",\"size\":10,\"solidity\":0.2},\"type\":\"scatter\"}],\"parcoords\":[{\"type\":\"parcoords\",\"line\":{\"colorbar\":{\"outlinewidth\":0,\"ticks\":\"\"}}}],\"scatterpolargl\":[{\"type\":\"scatterpolargl\",\"marker\":{\"colorbar\":{\"outlinewidth\":0,\"ticks\":\"\"}}}],\"bar\":[{\"error_x\":{\"color\":\"#2a3f5f\"},\"error_y\":{\"color\":\"#2a3f5f\"},\"marker\":{\"line\":{\"color\":\"#E5ECF6\",\"width\":0.5},\"pattern\":{\"fillmode\":\"overlay\",\"size\":10,\"solidity\":0.2}},\"type\":\"bar\"}],\"scattergeo\":[{\"type\":\"scattergeo\",\"marker\":{\"colorbar\":{\"outlinewidth\":0,\"ticks\":\"\"}}}],\"scatterpolar\":[{\"type\":\"scatterpolar\",\"marker\":{\"colorbar\":{\"outlinewidth\":0,\"ticks\":\"\"}}}],\"histogram\":[{\"marker\":{\"pattern\":{\"fillmode\":\"overlay\",\"size\":10,\"solidity\":0.2}},\"type\":\"histogram\"}],\"scattergl\":[{\"type\":\"scattergl\",\"marker\":{\"colorbar\":{\"outlinewidth\":0,\"ticks\":\"\"}}}],\"scatter3d\":[{\"type\":\"scatter3d\",\"line\":{\"colorbar\":{\"outlinewidth\":0,\"ticks\":\"\"}},\"marker\":{\"colorbar\":{\"outlinewidth\":0,\"ticks\":\"\"}}}],\"scattermapbox\":[{\"type\":\"scattermapbox\",\"marker\":{\"colorbar\":{\"outlinewidth\":0,\"ticks\":\"\"}}}],\"scatterternary\":[{\"type\":\"scatterternary\",\"marker\":{\"colorbar\":{\"outlinewidth\":0,\"ticks\":\"\"}}}],\"scattercarpet\":[{\"type\":\"scattercarpet\",\"marker\":{\"colorbar\":{\"outlinewidth\":0,\"ticks\":\"\"}}}],\"carpet\":[{\"aaxis\":{\"endlinecolor\":\"#2a3f5f\",\"gridcolor\":\"white\",\"linecolor\":\"white\",\"minorgridcolor\":\"white\",\"startlinecolor\":\"#2a3f5f\"},\"baxis\":{\"endlinecolor\":\"#2a3f5f\",\"gridcolor\":\"white\",\"linecolor\":\"white\",\"minorgridcolor\":\"white\",\"startlinecolor\":\"#2a3f5f\"},\"type\":\"carpet\"}],\"table\":[{\"cells\":{\"fill\":{\"color\":\"#EBF0F8\"},\"line\":{\"color\":\"white\"}},\"header\":{\"fill\":{\"color\":\"#C8D4E3\"},\"line\":{\"color\":\"white\"}},\"type\":\"table\"}],\"barpolar\":[{\"marker\":{\"line\":{\"color\":\"#E5ECF6\",\"width\":0.5},\"pattern\":{\"fillmode\":\"overlay\",\"size\":10,\"solidity\":0.2}},\"type\":\"barpolar\"}],\"pie\":[{\"automargin\":true,\"type\":\"pie\"}]},\"layout\":{\"autotypenumbers\":\"strict\",\"colorway\":[\"#636efa\",\"#EF553B\",\"#00cc96\",\"#ab63fa\",\"#FFA15A\",\"#19d3f3\",\"#FF6692\",\"#B6E880\",\"#FF97FF\",\"#FECB52\"],\"font\":{\"color\":\"#2a3f5f\"},\"hovermode\":\"closest\",\"hoverlabel\":{\"align\":\"left\"},\"paper_bgcolor\":\"white\",\"plot_bgcolor\":\"#E5ECF6\",\"polar\":{\"bgcolor\":\"#E5ECF6\",\"angularaxis\":{\"gridcolor\":\"white\",\"linecolor\":\"white\",\"ticks\":\"\"},\"radialaxis\":{\"gridcolor\":\"white\",\"linecolor\":\"white\",\"ticks\":\"\"}},\"ternary\":{\"bgcolor\":\"#E5ECF6\",\"aaxis\":{\"gridcolor\":\"white\",\"linecolor\":\"white\",\"ticks\":\"\"},\"baxis\":{\"gridcolor\":\"white\",\"linecolor\":\"white\",\"ticks\":\"\"},\"caxis\":{\"gridcolor\":\"white\",\"linecolor\":\"white\",\"ticks\":\"\"}},\"coloraxis\":{\"colorbar\":{\"outlinewidth\":0,\"ticks\":\"\"}},\"colorscale\":{\"sequential\":[[0.0,\"#0d0887\"],[0.1111111111111111,\"#46039f\"],[0.2222222222222222,\"#7201a8\"],[0.3333333333333333,\"#9c179e\"],[0.4444444444444444,\"#bd3786\"],[0.5555555555555556,\"#d8576b\"],[0.6666666666666666,\"#ed7953\"],[0.7777777777777778,\"#fb9f3a\"],[0.8888888888888888,\"#fdca26\"],[1.0,\"#f0f921\"]],\"sequentialminus\":[[0.0,\"#0d0887\"],[0.1111111111111111,\"#46039f\"],[0.2222222222222222,\"#7201a8\"],[0.3333333333333333,\"#9c179e\"],[0.4444444444444444,\"#bd3786\"],[0.5555555555555556,\"#d8576b\"],[0.6666666666666666,\"#ed7953\"],[0.7777777777777778,\"#fb9f3a\"],[0.8888888888888888,\"#fdca26\"],[1.0,\"#f0f921\"]],\"diverging\":[[0,\"#8e0152\"],[0.1,\"#c51b7d\"],[0.2,\"#de77ae\"],[0.3,\"#f1b6da\"],[0.4,\"#fde0ef\"],[0.5,\"#f7f7f7\"],[0.6,\"#e6f5d0\"],[0.7,\"#b8e186\"],[0.8,\"#7fbc41\"],[0.9,\"#4d9221\"],[1,\"#276419\"]]},\"xaxis\":{\"gridcolor\":\"white\",\"linecolor\":\"white\",\"ticks\":\"\",\"title\":{\"standoff\":15},\"zerolinecolor\":\"white\",\"automargin\":true,\"zerolinewidth\":2},\"yaxis\":{\"gridcolor\":\"white\",\"linecolor\":\"white\",\"ticks\":\"\",\"title\":{\"standoff\":15},\"zerolinecolor\":\"white\",\"automargin\":true,\"zerolinewidth\":2},\"scene\":{\"xaxis\":{\"backgroundcolor\":\"#E5ECF6\",\"gridcolor\":\"white\",\"linecolor\":\"white\",\"showbackground\":true,\"ticks\":\"\",\"zerolinecolor\":\"white\",\"gridwidth\":2},\"yaxis\":{\"backgroundcolor\":\"#E5ECF6\",\"gridcolor\":\"white\",\"linecolor\":\"white\",\"showbackground\":true,\"ticks\":\"\",\"zerolinecolor\":\"white\",\"gridwidth\":2},\"zaxis\":{\"backgroundcolor\":\"#E5ECF6\",\"gridcolor\":\"white\",\"linecolor\":\"white\",\"showbackground\":true,\"ticks\":\"\",\"zerolinecolor\":\"white\",\"gridwidth\":2}},\"shapedefaults\":{\"line\":{\"color\":\"#2a3f5f\"}},\"annotationdefaults\":{\"arrowcolor\":\"#2a3f5f\",\"arrowhead\":0,\"arrowwidth\":1},\"geo\":{\"bgcolor\":\"white\",\"landcolor\":\"#E5ECF6\",\"subunitcolor\":\"white\",\"showland\":true,\"showlakes\":true,\"lakecolor\":\"white\"},\"title\":{\"x\":0.05},\"mapbox\":{\"style\":\"light\"}}},\"ternary\":{\"domain\":{\"x\":[0.0,1.0],\"y\":[0.0,1.0]},\"aaxis\":{\"title\":{\"text\":\"skill\"}},\"baxis\":{\"title\":{\"text\":\"effort\"}},\"caxis\":{\"title\":{\"text\":\"luck\"}}},\"coloraxis\":{\"colorbar\":{\"title\":{\"text\":\"stability\"}},\"colorscale\":[[0.0,\"#0d0887\"],[0.1111111111111111,\"#46039f\"],[0.2222222222222222,\"#7201a8\"],[0.3333333333333333,\"#9c179e\"],[0.4444444444444444,\"#bd3786\"],[0.5555555555555556,\"#d8576b\"],[0.6666666666666666,\"#ed7953\"],[0.7777777777777778,\"#fb9f3a\"],[0.8888888888888888,\"#fdca26\"],[1.0,\"#f0f921\"]]},\"legend\":{\"tracegroupgap\":0},\"margin\":{\"t\":60}},                        {\"responsive\": true}                    ).then(function(){\n",
       "                            \n",
       "var gd = document.getElementById('ca1a09ec-78f3-4c3d-89fb-c01125e7604c');\n",
       "var x = new MutationObserver(function (mutations, observer) {{\n",
       "        var display = window.getComputedStyle(gd).display;\n",
       "        if (!display || display === 'none') {{\n",
       "            console.log([gd, 'removed!']);\n",
       "            Plotly.purge(gd);\n",
       "            observer.disconnect();\n",
       "        }}\n",
       "}});\n",
       "\n",
       "// Listen for the removal of the full notebook cells\n",
       "var notebookContainer = gd.closest('#notebook-container');\n",
       "if (notebookContainer) {{\n",
       "    x.observe(notebookContainer, {childList: true});\n",
       "}}\n",
       "\n",
       "// Listen for the clearing of the current output cell\n",
       "var outputEl = gd.closest('.output');\n",
       "if (outputEl) {{\n",
       "    x.observe(outputEl, {childList: true});\n",
       "}}\n",
       "\n",
       "                        })                };                });            </script>        </div>"
      ]
     },
     "metadata": {},
     "output_type": "display_data"
    }
   ],
   "source": [
    "\n",
    "fig = px.scatter_ternary(test_df, a=\"skill\", b=\"effort\", c=\"luck\",\n",
    "                         color=test_df['stability'])#,range_color=[0,1])\n",
    "fig.update_traces(marker={'size': 15})\n",
    "\n",
    "fig.show()"
   ]
  },
  {
   "cell_type": "code",
   "execution_count": 39,
   "id": "94e46a83",
   "metadata": {},
   "outputs": [
    {
     "data": {
      "text/html": [
       "<div>\n",
       "<style scoped>\n",
       "    .dataframe tbody tr th:only-of-type {\n",
       "        vertical-align: middle;\n",
       "    }\n",
       "\n",
       "    .dataframe tbody tr th {\n",
       "        vertical-align: top;\n",
       "    }\n",
       "\n",
       "    .dataframe thead th {\n",
       "        text-align: right;\n",
       "    }\n",
       "</style>\n",
       "<table border=\"1\" class=\"dataframe\">\n",
       "  <thead>\n",
       "    <tr style=\"text-align: right;\">\n",
       "      <th></th>\n",
       "      <th>skill</th>\n",
       "      <th>effort</th>\n",
       "      <th>luck</th>\n",
       "      <th>linearity</th>\n",
       "      <th>accuracy</th>\n",
       "      <th>consistency</th>\n",
       "    </tr>\n",
       "  </thead>\n",
       "  <tbody>\n",
       "    <tr>\n",
       "      <th>5</th>\n",
       "      <td>0.0</td>\n",
       "      <td>0.0</td>\n",
       "      <td>1.0</td>\n",
       "      <td>2.613773e+180</td>\n",
       "      <td>3.545851e+246</td>\n",
       "      <td>3.975625e+132</td>\n",
       "    </tr>\n",
       "    <tr>\n",
       "      <th>11</th>\n",
       "      <td>0.0</td>\n",
       "      <td>0.2</td>\n",
       "      <td>1.0</td>\n",
       "      <td>1.691056e-306</td>\n",
       "      <td>1.949063e+289</td>\n",
       "      <td>5.405529e+173</td>\n",
       "    </tr>\n",
       "    <tr>\n",
       "      <th>17</th>\n",
       "      <td>0.0</td>\n",
       "      <td>0.4</td>\n",
       "      <td>1.0</td>\n",
       "      <td>8.739905e+245</td>\n",
       "      <td>1.391498e-195</td>\n",
       "      <td>5.351010e+228</td>\n",
       "    </tr>\n",
       "    <tr>\n",
       "      <th>33</th>\n",
       "      <td>0.2</td>\n",
       "      <td>0.0</td>\n",
       "      <td>1.0</td>\n",
       "      <td>8.046570e+250</td>\n",
       "      <td>2.466436e+265</td>\n",
       "      <td>-4.472967e+126</td>\n",
       "    </tr>\n",
       "    <tr>\n",
       "      <th>39</th>\n",
       "      <td>0.2</td>\n",
       "      <td>0.2</td>\n",
       "      <td>1.0</td>\n",
       "      <td>3.752051e+199</td>\n",
       "      <td>6.100019e+149</td>\n",
       "      <td>6.179817e-242</td>\n",
       "    </tr>\n",
       "    <tr>\n",
       "      <th>55</th>\n",
       "      <td>0.4</td>\n",
       "      <td>0.0</td>\n",
       "      <td>1.0</td>\n",
       "      <td>2.004126e-312</td>\n",
       "      <td>3.881711e-307</td>\n",
       "      <td>2.652433e+180</td>\n",
       "    </tr>\n",
       "  </tbody>\n",
       "</table>\n",
       "</div>"
      ],
      "text/plain": [
       "    skill  effort  luck      linearity       accuracy    consistency\n",
       "5     0.0     0.0   1.0  2.613773e+180  3.545851e+246  3.975625e+132\n",
       "11    0.0     0.2   1.0  1.691056e-306  1.949063e+289  5.405529e+173\n",
       "17    0.0     0.4   1.0  8.739905e+245  1.391498e-195  5.351010e+228\n",
       "33    0.2     0.0   1.0  8.046570e+250  2.466436e+265 -4.472967e+126\n",
       "39    0.2     0.2   1.0  3.752051e+199  6.100019e+149  6.179817e-242\n",
       "55    0.4     0.0   1.0  2.004126e-312  3.881711e-307  2.652433e+180"
      ]
     },
     "execution_count": 39,
     "metadata": {},
     "output_type": "execute_result"
    }
   ],
   "source": [
    "test_df[test_df['luck'] == 1]"
   ]
  },
  {
   "cell_type": "code",
   "execution_count": 42,
   "id": "cc4eb508",
   "metadata": {},
   "outputs": [
    {
     "name": "stdout",
     "output_type": "stream",
     "text": [
      "[[0.  0.  0.  0.  0.  0.  0.  0.  0.  0.  0.  0.  0.  0.  0.  0.  0.  0.\n",
      "  0.  0.  0.  0.  0.  0.  0.  0.  0.  0.  0.2 0.2 0.2 0.2 0.2 0.2 0.2 0.2\n",
      "  0.2 0.2 0.2 0.2 0.2 0.2 0.2 0.2 0.2 0.2 0.2 0.2 0.2 0.2 0.4 0.4 0.4 0.4\n",
      "  0.4 0.4 0.4 0.4 0.4 0.4 0.4 0.4 0.4 0.4 0.4 0.4 0.6 0.6 0.6 0.6 0.6 0.6\n",
      "  0.6 0.6 0.6 0.6 0.8 0.8 0.8 0.8 0.8 1. ]\n",
      " [0.  0.  0.  0.  0.  0.  0.2 0.2 0.2 0.2 0.2 0.2 0.4 0.4 0.4 0.4 0.4 0.4\n",
      "  0.6 0.6 0.6 0.6 0.6 0.8 0.8 0.8 0.8 1.  0.  0.  0.  0.  0.  0.  0.2 0.2\n",
      "  0.2 0.2 0.2 0.2 0.4 0.4 0.4 0.4 0.4 0.6 0.6 0.6 0.6 0.8 0.  0.  0.  0.\n",
      "  0.  0.  0.2 0.2 0.2 0.2 0.2 0.4 0.4 0.4 0.4 0.6 0.  0.  0.  0.  0.  0.2\n",
      "  0.2 0.2 0.2 0.4 0.  0.  0.  0.  0.2 0. ]\n",
      " [0.  0.2 0.4 0.6 0.8 1.  0.  0.2 0.4 0.6 0.8 1.  0.  0.2 0.4 0.6 0.8 1.\n",
      "  0.  0.2 0.4 0.6 0.8 0.  0.2 0.4 0.6 0.  0.  0.2 0.4 0.6 0.8 1.  0.  0.2\n",
      "  0.4 0.6 0.8 1.  0.  0.2 0.4 0.6 0.8 0.  0.2 0.4 0.6 0.  0.  0.2 0.4 0.6\n",
      "  0.8 1.  0.  0.2 0.4 0.6 0.8 0.  0.2 0.4 0.6 0.  0.  0.2 0.4 0.6 0.8 0.\n",
      "  0.2 0.4 0.6 0.  0.  0.2 0.4 0.6 0.  0. ]]\n"
     ]
    },
    {
     "name": "stderr",
     "output_type": "stream",
     "text": [
      "/home/ammon/anaconda3/lib/python3.6/site-packages/matplotlib/figure.py:459: UserWarning:\n",
      "\n",
      "matplotlib is currently using a non-GUI backend, so cannot show the figure\n",
      "\n"
     ]
    },
    {
     "data": {
      "image/png": "[encoded data removed]",
      "text/plain": [
       "<Figure size 432x288 with 1 Axes>"
      ]
     },
     "metadata": {},
     "output_type": "display_data"
    }
   ],
   "source": [
    "import ternary\n",
    "fig,tax = ternary.figure()\n",
    "tax.set_title(\"Scatter plot\",fontsize=20)\n",
    "points = np.array([test_df['skill'],test_df['effort'],test_df['luck']])\n",
    "\n",
    "tax.scatter(point_list)\n",
    "fig.show()\n",
    "print(points)"
   ]
  },
  {
   "cell_type": "code",
   "execution_count": 59,
   "id": "f239f3ee",
   "metadata": {},
   "outputs": [
    {
     "name": "stdout",
     "output_type": "stream",
     "text": [
      "[[ 0.921  0.879  0.883  0.855  0.829  0.731]\n",
      " [ 0.86   0.883  0.855  0.86   0.802  0.793]\n",
      " [ 0.836  0.893  0.788  0.798  0.748  0.688]\n",
      " [ 0.66   0.617  0.571  0.512  0.483  0.348]\n",
      " [ 0.488  0.529  0.457  0.312  0.314  0.381]\n",
      " [-0.088 -0.002 -0.169 -0.145 -0.06  -0.305]]\n"
     ]
    },
    {
     "name": "stderr",
     "output_type": "stream",
     "text": [
      "/home/ammon/anaconda3/lib/python3.6/site-packages/matplotlib/figure.py:459: UserWarning:\n",
      "\n",
      "matplotlib is currently using a non-GUI backend, so cannot show the figure\n",
      "\n"
     ]
    },
    {
     "data": {
      "image/png": "[encoded data removed]",
      "text/plain": [
       "<Figure size 432x288 with 1 Axes>"
      ]
     },
     "metadata": {},
     "output_type": "display_data"
    }
   ],
   "source": [
    "import matplotlib.pyplot as plt\n",
    "acc_array = output[:,:,1,2]\n",
    "acc_array = np.flipud(acc_array)\n",
    "fig,ax = plt.subplots()\n",
    "ax.imshow(acc_array,vmax = 1,vmin=0)\n",
    "ax.set_xlabel('Effort')\n",
    "ax.set_ylabel('Size/Skill')\n",
    "\n",
    "ax.set_xticks(np.arange(6))\n",
    "ax.set_yticks(np.arange(6))\n",
    "ax.set_xticklabels(even_list)\n",
    "ax.set_yticklabels(even_list[::-1])\n",
    "\n",
    "fig.show()\n",
    "acc_array = np.round(acc_array,3).astype(float)\n",
    "np.set_printoptions(suppress=True)\n",
    "print(acc_array)"
   ]
  },
  {
   "cell_type": "code",
   "execution_count": 1,
   "id": "8361d9dd",
   "metadata": {
    "id": "d4522eee"
   },
   "outputs": [],
   "source": [
    "## Load required packages\n",
    "import numpy as np\n",
    "\n",
    "import itertools,random\n",
    "\n",
    "from scipy.special import rel_entr\n",
    "from scipy.stats import mode\n",
    "from scipy.stats import norm\n",
    "\n",
    "from sklearn.metrics import auc\n",
    "\n",
    "import matplotlib.pyplot as plt\n",
    "from matplotlib import cm"
   ]
  },
  {
   "cell_type": "code",
   "execution_count": 12,
   "id": "71aef2d3",
   "metadata": {},
   "outputs": [
    {
     "name": "stderr",
     "output_type": "stream",
     "text": [
      "/tmp/ipykernel_277914/2208777308.py:11: UserWarning: Matplotlib is currently using module://matplotlib_inline.backend_inline, which is a non-GUI backend, so cannot show the figure.\n",
      "  fig.show()\n"
     ]
    },
    {
     "data": {
      "image/png": "[encoded data removed]",
      "text/plain": [
       "<Figure size 432x288 with 1 Axes>"
      ]
     },
     "metadata": {
      "needs_background": "light"
     },
     "output_type": "display_data"
    }
   ],
   "source": [
    "a = np.random.random(100)\n",
    "b = np.random.random(100)\n",
    "b = np.ones(100) *.7\n",
    "c = np.zeros_like(a)\n",
    "d = np.zeros_like(a)\n",
    "for i in range(len(a)):\n",
    "    c[i] = min([a[i],b[i]])\n",
    "    d[i] = max([a[i],b[i]])\n",
    "fig,ax = plt.subplots()\n",
    "ax.scatter(a,a/(a+b))\n",
    "fig.show()"
   ]
  },
  {
   "cell_type": "code",
   "execution_count": 2,
   "id": "093dd662",
   "metadata": {
    "colab": {
     "base_uri": "https://localhost:8080/",
     "height": 541
    },
    "id": "36368ea6",
    "outputId": "31edb58e-aee9-4a3d-f806-ac33ddb4e9b8"
   },
   "outputs": [
    {
     "name": "stderr",
     "output_type": "stream",
     "text": [
      "/tmp/ipykernel_184921/3191643794.py:22: UserWarning: Matplotlib is currently using module://matplotlib_inline.backend_inline, which is a non-GUI backend, so cannot show the figure.\n",
      "  fig.show()\n",
      "/tmp/ipykernel_184921/3191643794.py:30: UserWarning: Matplotlib is currently using module://matplotlib_inline.backend_inline, which is a non-GUI backend, so cannot show the figure.\n",
      "  fig.show()\n"
     ]
    },
    {
     "data": {
      "image/png": "[encoded data removed]",
      "text/plain": [
       "<Figure size 432x288 with 1 Axes>"
      ]
     },
     "metadata": {
      "needs_background": "light"
     },
     "output_type": "display_data"
    },
    {
     "data": {
      "image/png": "[encoded data removed]",
      "text/plain": [
       "<Figure size 432x288 with 1 Axes>"
      ]
     },
     "metadata": {
      "needs_background": "light"
     },
     "output_type": "display_data"
    }
   ],
   "source": [
    "## Prior function\n",
    "\n",
    "\n",
    "def prior_size(t,xs = np.arange(5,150)):\n",
    "    s_mean = growth_func(t)\n",
    "    sd = s_mean / 5\n",
    "    return norm.pdf(xs,s_mean,sd)\n",
    "\n",
    "def growth_func(t,s_max = 100):\n",
    "    size = 7 + s_max - s_max/np.exp(t/100)\n",
    "    return size\n",
    "\n",
    "\n",
    "\n",
    "fig,ax = plt.subplots()\n",
    "ts = np.linspace(0,350)\n",
    "\n",
    "ax.scatter(ts,growth_func(ts))\n",
    "ax.fill_between(ts,growth_func(ts)-growth_func(ts)/5,growth_func(ts)+growth_func(ts)/5,color='gray',alpha=.5)\n",
    "ax.set_xlabel('Days since birth')\n",
    "ax.set_ylabel('Size (mm)')\n",
    "fig.show()\n",
    "\n",
    "fig,ax = plt.subplots()\n",
    "\n",
    "t = 50\n",
    "ax.plot(np.arange(5,150),prior_size(t))\n",
    "ax.set_xlabel('Size at Day 50')\n",
    "ax.set_ylabel('Probability density')\n",
    "fig.show()"
   ]
  },
  {
   "cell_type": "code",
   "execution_count": 3,
   "id": "4fb74cf1",
   "metadata": {},
   "outputs": [
    {
     "name": "stdout",
     "output_type": "stream",
     "text": [
      "-inf\n",
      "0.1\n",
      "-1\n",
      "small probability: 0.5\n",
      "even probability: 0.5\n",
      "even probability: 0.5\n"
     ]
    },
    {
     "name": "stderr",
     "output_type": "stream",
     "text": [
      "/tmp/ipykernel_184921/3688143613.py:29: UserWarning: Matplotlib is currently using module://matplotlib_inline.backend_inline, which is a non-GUI backend, so cannot show the figure.\n",
      "  fig.show()\n"
     ]
    },
    {
     "data": {
      "image/png": "[encoded data removed]",
      "text/plain": [
       "<Figure size 432x288 with 1 Axes>"
      ]
     },
     "metadata": {
      "needs_background": "light"
     },
     "output_type": "display_data"
    }
   ],
   "source": [
    "\n",
    "from scipy.special import logit\n",
    "\n",
    "## Defines how wager relates to probability of winning for wager, w, with luck, .5\n",
    "## Wager here is defined as a proportion of the greater fish's investment\n",
    "def wager_curve(w,l=.25):\n",
    "    a = logit(1-l)\n",
    "    prob_win = w ** (float(np.abs(a))**np.sign(a)) / 2\n",
    "    return prob_win\n",
    "    \n",
    "fig,ax = plt.subplots()\n",
    "x_vals = np.linspace(0,1,100)\n",
    "\n",
    "b = 1\n",
    "a = logit(1-b)\n",
    "print(a)\n",
    "print(float(np.abs(10))**-1)\n",
    "\n",
    "#ax.plot(x_vals,x_vals**2)\n",
    "#ax.plot(x_vals,x_vals ** (1/2))\n",
    "for l in np.linspace(0,1,11):\n",
    "    ax.plot(x_vals,wager_curve(x_vals,l=l),label=str(l),color='gray')\n",
    "ax.plot(x_vals,x_vals**(float(np.abs(a))**np.sign(a))/2)\n",
    "print(np.sign(-1))\n",
    "print('small probability:',.01 ** (float(np.abs(a))**np.sign(a))/2)\n",
    "print('even probability:', 1.0 ** (float(np.abs(a))**np.sign(a))/2)\n",
    "print('even probability:',wager_curve(1.0))\n",
    "#ax.set_ylim([-0.1,1.1])\n",
    "ax.legend()\n",
    "fig.show()\n"
   ]
  },
  {
   "cell_type": "code",
   "execution_count": 4,
   "id": "c73f765f",
   "metadata": {
    "colab": {
     "base_uri": "https://localhost:8080/",
     "height": 349
    },
    "id": "6ced2f20",
    "outputId": "3642ce70-17cf-4949-9f50-b6d7a77f2feb"
   },
   "outputs": [
    {
     "name": "stderr",
     "output_type": "stream",
     "text": [
      "/tmp/ipykernel_184921/3813859319.py:47: UserWarning: Matplotlib is currently using module://matplotlib_inline.backend_inline, which is a non-GUI backend, so cannot show the figure.\n",
      "  fig.show()\n"
     ]
    },
    {
     "data": {
      "image/png": "[encoded data removed]",
      "text/plain": [
       "<Figure size 360x360 with 2 Axes>"
      ]
     },
     "metadata": {
      "needs_background": "light"
     },
     "output_type": "display_data"
    }
   ],
   "source": [
    "## Likelihood function\n",
    "\n",
    "def win_by_ratio(r, k=0.1,m=0):\n",
    "    # sigmoid function\n",
    "    # use k to adjust the slope\n",
    "    p = 1 / (1 + np.exp(-(r-m) / k)) \n",
    "    return p\n",
    "\n",
    "def likelihood_function_size(x,x_opp=50):\n",
    "    if x >=x_opp:\n",
    "        r_diff = (x - x_opp)/x # Will be positive\n",
    "    elif x_opp > x:\n",
    "        r_diff = (x - x_opp)/x_opp # Will be negative\n",
    "    p_win = win_by_ratio(r_diff)\n",
    "    return p_win\n",
    "    \n",
    "def define_likelihood(x_opp=50,xs=np.arange(5,150),win=True):\n",
    "    likelihood = np.zeros(len(xs))\n",
    "    if win:\n",
    "        for s in range(len(xs)):\n",
    "            likelihood[s] = likelihood_function_size(xs[s],x_opp)\n",
    "    elif not win:\n",
    "        for s in range(len(xs)):\n",
    "            likelihood[s] = 1-likelihood_function_size(xs[s],x_opp)\n",
    "    return likelihood\n",
    "\n",
    "\n",
    "fig,(ax,ax1) =plt.subplots(2)\n",
    "\n",
    "xs = np.linspace(-1,1,100)\n",
    "ax.plot(xs,win_by_ratio(xs))\n",
    "ax.set_xlabel('Percent Difference, defined by larger fish')\n",
    "ax.set_ylabel('Probability of Winning')\n",
    "ax.set_ylim(-0.1,1.1)\n",
    "\n",
    "\n",
    "xs1 = np.linspace(5,150,100)\n",
    "ys1 = []\n",
    "for x in xs1:\n",
    "    ys1.append(likelihood_function_size(x))\n",
    "ax1.plot(xs1,ys1)\n",
    "ax1.axvline(50,color='black',linestyle=':')\n",
    "ax1.set_xlabel('Focal fish size vs size 50 fish')\n",
    "ax1. set_ylabel('Probability of winning')\n",
    "fig.tight_layout()\n",
    "fig.set_size_inches([5,5])\n",
    "fig.show()\n",
    "\n"
   ]
  },
  {
   "cell_type": "code",
   "execution_count": 5,
   "id": "8b3a4a85",
   "metadata": {
    "colab": {
     "base_uri": "https://localhost:8080/",
     "height": 295
    },
    "id": "e3074503",
    "outputId": "ceca147e-58e6-475b-f4b1-ff3d976e895f"
   },
   "outputs": [
    {
     "name": "stderr",
     "output_type": "stream",
     "text": [
      "/tmp/ipykernel_184921/3678453929.py:78: UserWarning: Matplotlib is currently using module://matplotlib_inline.backend_inline, which is a non-GUI backend, so cannot show the figure.\n",
      "  fig.show()\n",
      "/tmp/ipykernel_184921/3678453929.py:81: UserWarning: Matplotlib is currently using module://matplotlib_inline.backend_inline, which is a non-GUI backend, so cannot show the figure.\n",
      "  fig1.show()\n",
      "/tmp/ipykernel_184921/3678453929.py:89: UserWarning: Matplotlib is currently using module://matplotlib_inline.backend_inline, which is a non-GUI backend, so cannot show the figure.\n",
      "  fig2.show()\n",
      "/tmp/ipykernel_184921/3678453929.py:96: UserWarning: Matplotlib is currently using module://matplotlib_inline.backend_inline, which is a non-GUI backend, so cannot show the figure.\n",
      "  fig.show()\n"
     ]
    },
    {
     "data": {
      "image/png": "[encoded data removed]",
      "text/plain": [
       "<Figure size 432x288 with 1 Axes>"
      ]
     },
     "metadata": {
      "needs_background": "light"
     },
     "output_type": "display_data"
    },
    {
     "data": {
      "image/png": "[encoded data removed]",
      "text/plain": [
       "<Figure size 432x288 with 1 Axes>"
      ]
     },
     "metadata": {
      "needs_background": "light"
     },
     "output_type": "display_data"
    },
    {
     "data": {
      "image/png": "[encoded data removed]",
      "text/plain": [
       "<Figure size 432x288 with 1 Axes>"
      ]
     },
     "metadata": {
      "needs_background": "light"
     },
     "output_type": "display_data"
    },
    {
     "data": {
      "image/png": "[encoded data removed]",
      "text/plain": [
       "<Figure size 432x288 with 1 Axes>"
      ]
     },
     "metadata": {
      "needs_background": "light"
     },
     "output_type": "display_data"
    }
   ],
   "source": [
    "## Update a prior by a likelihood\n",
    "## Likelihood function\n",
    "\n",
    "def win_by_ratio(r, k=0.1,m=0):\n",
    "    # sigmoid function\n",
    "    # use k to adjust the slope\n",
    "    p = 1 / (1 + np.exp(-(r-m) / k)) \n",
    "    return p\n",
    "\n",
    "def likelihood_function_size(x,x_opp=50):\n",
    "    if x >=x_opp:\n",
    "        r_diff = (x - x_opp)/x # Will be positive\n",
    "    elif x_opp > x:\n",
    "        r_diff = (x - x_opp)/x_opp # Will be negative\n",
    "    p_win = win_by_ratio(r_diff)\n",
    "    return p_win\n",
    "    \n",
    "def define_likelihood(x_opp=50,xs=np.arange(5,150),win=True):\n",
    "    likelihood = np.zeros(len(xs))\n",
    "    if win:\n",
    "        for s in range(len(xs)):\n",
    "            likelihood[s] = likelihood_function_size(xs[s],x_opp)\n",
    "    elif not win:\n",
    "        for s in range(len(xs)):\n",
    "            likelihood[s] = 1-likelihood_function_size(xs[s],x_opp)\n",
    "    return likelihood\n",
    "\n",
    "def prior_size(t,xs = np.arange(5,150)):\n",
    "    s_mean = growth_func(t)\n",
    "    sd = s_mean / 5\n",
    "    return norm.pdf(xs,s_mean,sd)\n",
    "\n",
    "def growth_func(t,s_max = 100):\n",
    "    size = 7 + s_max - s_max/np.exp(t/100)\n",
    "    return size\n",
    "\n",
    "## xs need to be the same for prior, likelihood, and post\n",
    "def update(prior,likelihood,xs = np.arange(5,150)):\n",
    "    post = prior * likelihood\n",
    "    post = post / auc(xs,post)\n",
    "    return post\n",
    "\n",
    "xs = np.arange(5,150)\n",
    "t = 100\n",
    "x_opp = 60\n",
    "win = True\n",
    "prior = prior_size(t,xs)\n",
    "\n",
    "likelihood = define_likelihood(x_opp,win=win)\n",
    "posterior = update(prior,likelihood)\n",
    "posterior_i = update(posterior,likelihood)\n",
    "\n",
    "\n",
    "likelihood_loss = define_likelihood(x_opp,win=False)\n",
    "posterior_loss = update(prior,likelihood_loss)\n",
    "posterior_l = update(posterior_loss,likelihood_loss)\n",
    "\n",
    "fig,ax = plt.subplots()\n",
    "fig1,ax1 = plt.subplots()\n",
    "ax.plot(xs,prior,label='Prior')\n",
    "ax.plot(xs,posterior,label='Posterior (after win)',color='tab:green')\n",
    "ax.plot(xs,posterior_i,label='Repeated wins',color='gray',alpha=.1)\n",
    "\n",
    "ax1.plot(xs,prior,label='Prior')\n",
    "ax1.plot(xs,posterior_loss,label='Posterior (after loss)',color='tab:green')\n",
    "ax1.plot(xs,posterior_l,color='gray',alpha=.1,label='Repeated losses')\n",
    "\n",
    "for i in range(100):\n",
    "    posterior_i = update(posterior_i,likelihood)\n",
    "    posterior_l = update(posterior_l,likelihood_loss)\n",
    "    ax.plot(xs,posterior_i,color='gray',alpha=.1)\n",
    "    ax1.plot(xs,posterior_l,color='gray',alpha=.1)\n",
    "    \n",
    "ax.axvline(x_opp,color='black',linestyle=':',label='Opponent Size')\n",
    "ax1.axvline(x_opp,color='black',linestyle=':',label='Opponent Size')\n",
    "\n",
    "ax.legend()\n",
    "fig.show()\n",
    "\n",
    "ax1.legend()\n",
    "fig1.show()\n",
    "\n",
    "fig2,ax2 = plt.subplots()\n",
    "\n",
    "ax2.plot(xs,likelihood,label='Likelihood',color='tab:orange')\n",
    "ax2.axvline(x_opp,color='black',linestyle=':',label='Opponent Size')\n",
    "\n",
    "ax2.legend()\n",
    "fig2.show()\n",
    "\n",
    "fig3,ax3 = plt.subplots()\n",
    "ax3.plot(xs,prior,label='Prior Self Assessment')\n",
    "ax3.axvline(x_opp,color='black',linestyle=':',label='Opponent Size')\n",
    "ax3.set_ylim(-0.001,0.051)\n",
    "ax3.legend()\n",
    "fig.show()"
   ]
  },
  {
   "cell_type": "code",
   "execution_count": 119,
   "id": "88f2a82a",
   "metadata": {
    "colab": {
     "base_uri": "https://localhost:8080/",
     "height": 533
    },
    "id": "444bb138",
    "outputId": "6b1182cd-dc4f-4f91-948f-e1edb3c40fd0"
   },
   "outputs": [
    {
     "name": "stdout",
     "output_type": "stream",
     "text": [
      "Estimated size: 46.2625250501002\n",
      "(46.34709871510001, 9.269018176936278)\n",
      "Fight? True\n",
      "pre-sum 1.0000000000000002\n",
      "post-sum 1.0\n",
      "My name is: Phil\n",
      "Actual size: 50.22241800702221\n",
      "Size estimate: 21.56312625250501\n",
      "Win record: [[20, False]]\n",
      "Fight? True\n",
      "Win? True\n",
      "Win fixed? True\n",
      "1.0\n",
      "119.85368682769328 10.947770861124802\n",
      "(31.04659190163085, 10.947770861124802)\n"
     ]
    },
    {
     "name": "stderr",
     "output_type": "stream",
     "text": [
      "/home/ammon/anaconda3/lib/python3.6/site-packages/matplotlib/figure.py:459: UserWarning: matplotlib is currently using a non-GUI backend, so cannot show the figure\n",
      "  \"matplotlib is currently using a non-GUI backend, \"\n"
     ]
    },
    {
     "data": {
      "image/png": "[encoded data removed]",
      "text/plain": [
       "<Figure size 432x288 with 1 Axes>"
      ]
     },
     "metadata": {},
     "output_type": "display_data"
    }
   ],
   "source": [
    "## Define a fish object\n",
    "\n",
    "naive_escalation = {\n",
    "      0:.10,\n",
    "      1:.20,\n",
    "      2:.30,\n",
    "      3:.50,\n",
    "      4:.70\n",
    "}\n",
    "\n",
    "## Fish object with internal rules and estimates\n",
    "class Fish:\n",
    "    def __init__(self,idx=0,age=50,size=None,\n",
    "                 prior=None,likelihood=None,hock_estimate=.5,escalation=naive_escalation,xs=np.linspace(5,150,500)):\n",
    "        self.idx = idx\n",
    "        self.name = idx\n",
    "        self.age = age\n",
    "        self.xs = xs\n",
    "        if size is not None:\n",
    "            if size == 0:   \n",
    "                self.size = growth_func(self.age)\n",
    "            else:\n",
    "                self.size = size\n",
    "        else:\n",
    "            mean = growth_func(self.age)\n",
    "            sd = mean/5\n",
    "            self.size = np.random.normal(mean,sd)\n",
    "        if prior is not None:\n",
    "            self.prior = pior\n",
    "        else:\n",
    "            self.prior = self._prior_size(self.age,xs=self.xs)\n",
    "        ## Define the rules one when to escalate, based on confidence\n",
    "        self.escalation_thresholds = escalation\n",
    "        self.cdf_prior = self._get_cdf_prior(self.prior)\n",
    "        self.estimate = self.xs[np.argmax(self.prior)]\n",
    "        prior_mean,prior_std = self.get_stats()\n",
    "        self.estimate_ = prior_mean\n",
    "        if hock_estimate == 'estimate':\n",
    "            self.hock_estimate = self.estimate\n",
    "        else:\n",
    "            self.hock_estimate = hock_estimate\n",
    "        self.hock_record = [self.hock_estimate]\n",
    "        self.win_record = []\n",
    "        self.est_record = [self.estimate]\n",
    "        self.est_record_ = [self.estimate_]\n",
    "        self.sdest_record = [prior_std]\n",
    "        \n",
    "    def _get_cdf_prior(self,prior):\n",
    "        normed_prior = self.prior / np.sum(self.prior)\n",
    "        cdf_prior = np.cumsum(normed_prior)\n",
    "        return cdf_prior\n",
    "\n",
    "    def _update(self,prior,likelihood,xs = None):\n",
    "        if xs is None:\n",
    "            xs = self.xs\n",
    "        post = prior * likelihood\n",
    "        #post = post / auc(xs,post)\n",
    "        post = post / np.sum(post)\n",
    "        return post\n",
    "    \n",
    "    def _prior_size(self,t,xs = np.arange(5,150)):\n",
    "        s_mean = self._growth_func(t)\n",
    "        sd = s_mean / 5\n",
    "        prior = norm.pdf(xs,s_mean,sd)\n",
    "        return prior / np.sum(prior)\n",
    "\n",
    "    def _growth_func(self,t,s_max = 100):\n",
    "        size = 7 + s_max - s_max/np.exp(t/100)\n",
    "        return size\n",
    "    \n",
    "    def update_prior(self,win,x_opp,xs=None):\n",
    "        if xs is None:\n",
    "            xs = self.xs\n",
    "        likelihood = define_likelihood(x_opp,xs,win)\n",
    "        self.win_record.append([x_opp,win])\n",
    "        self.prior = self._update(self.prior,likelihood,xs)\n",
    "        self.cdf_prior = self._get_cdf_prior(self.prior)\n",
    "        if True: ## Need to decide which of these to use...\n",
    "            estimate = self.xs[np.argmax(self.prior)] ## This is easy, but should it be the mean?\n",
    "        else:\n",
    "            estimate = np.sum(self.prior * self.xs / np.sum(self.prior))\n",
    "        self.estimate_ = np.sum(self.prior * self.xs / np.sum(self.prior))\n",
    "        \n",
    "        prior_mean,prior_std = self.get_stats()\n",
    "        self.est_record_.append(prior_mean)\n",
    "        self.sdest_record.append(prior_std)\n",
    "        \n",
    "        self.estimate = estimate\n",
    "        self.est_record.append(estimate)\n",
    "        \n",
    "        return self.prior,self.estimate\n",
    "    \n",
    "    def update_hock(self,win,h_opp,scale=.1):\n",
    "        rel_hock = self.hock_estimate / (self.hock_estimate + h_opp)\n",
    "        estimate = self.hock_estimate + scale * (win-rel_hock)\n",
    "        if estimate < .001:\n",
    "            estimate = .001\n",
    "        self.hock_estimate = estimate\n",
    "        self.hock_record.append(estimate)\n",
    "        \n",
    "    def plot_prior(self,ax=None):\n",
    "        if ax is None:\n",
    "            fig,ax = plt.subplots()\n",
    "        ax.plot(self.xs,self.prior)\n",
    "        if ax is None:\n",
    "            fig.show()\n",
    "    def summary(self): # print off a summary of the fish\n",
    "        print('My number is:',self.idx)\n",
    "        print('Actual size:',self.size)\n",
    "        print('Size estimate:',self.estimate)\n",
    "        print('Win record:',self.win_record)\n",
    "        return self.name,self.size,self.estimate,self.win_record\n",
    "    \n",
    "    ## This needs to be divied up by strategy somehow...\n",
    "    def choose_effort(self,f_opp,strategy='sa'):\n",
    "        if strategy == 'sa':\n",
    "            return self.estimate / 100 ## This is defined as the max fish size, which could change...\n",
    "        elif strategy == 'oa':\n",
    "            return 1 - f_opp.size / 100\n",
    "        elif strategy == 'ma':\n",
    "            ## I think we could do np.sum(self.cdf_prior * f_opp.cdf_prior)\n",
    "            return np.sum(self.cdf_prior[self.xs > f_opp.size])\n",
    "        elif strategy == 'ma_c': ## This is the continuous version where there is opponent uncertainty\n",
    "            total_prob = 0\n",
    "            opp_estimate = self.estimate_opponent(f_opp.size)\n",
    "            for i in range(len(f_opp.xs)):\n",
    "                s = f_opp.xs[i]\n",
    "                total_prop += np.sum(self.cdf_prior[self.xs > s]) * opp_estimate[i]\n",
    "            return total_prob\n",
    "        else:\n",
    "            return 1\n",
    "    \n",
    "    ## Function to estimate opponent size, should return a prior distribution of opponent size like own prior_cdf\n",
    "    def estimate_opponent(self,f_opp):\n",
    "        return f_opp.cdf_prior\n",
    "    \n",
    "    def escalate_(self,x_opp,level=0): # Decide whether to fight (or escalate a fight) against a bigger fish\n",
    "        #print('Choosing whether to escalate...Estimate,opponent:',self.estimate,x_opp)\n",
    "\n",
    "        #NOTE: Switch this to a cdf estimate (i.e. odds of winning)\n",
    "        if self.estimate > x_opp * (level * .2 + 1): ## This is a wierd structure\n",
    "            return True\n",
    "        else:\n",
    "            return False\n",
    "    \n",
    "    ## This is just a little wrapper for probably_bigger\n",
    "    def escalate(self,x_opp,level=0):\n",
    "        conf_needed = self.escalation_thresholds[level]\n",
    "        if self.probably_bigger(x_opp,conf_needed):\n",
    "            return True\n",
    "        else:\n",
    "            return False\n",
    "    # Check whether you believe you are bigger with some required confidence\n",
    "    def probably_bigger(self,x_opp,conf=.5):\n",
    "        cutoff = self.xs[np.argmax(self.cdf_prior > (1-conf))] ## Calculate cutoff for a given confidence\n",
    "        if x_opp < cutoff:\n",
    "            return True\n",
    "        else:\n",
    "            return False\n",
    "    \n",
    "\n",
    "    def fight(self,x_opp): # Decide if you win against another fish\n",
    "        prob_win = likelihood_function_size(self.size,x_opp)\n",
    "        roll = np.random.random()\n",
    "        if roll < prob_win: # This should be right, >= would bias it, < is fair I think\n",
    "            return True\n",
    "        else:\n",
    "            return False\n",
    "    def fight_fixed(self,x_opp): # Same as above, but the bigger fish always wins\n",
    "        if self.size > x_opp:\n",
    "            return True\n",
    "        else:\n",
    "            return False\n",
    "    def get_stats(self):\n",
    "        prior_mean = np.sum(self.prior * self.xs / np.sum(self.prior))\n",
    "        prior_std = np.sum((self.xs - prior_mean)**2 * self.prior/(np.sum(self.prior)))\n",
    "        prior_std = np.sqrt(prior_std)\n",
    "        self.prior_mean = prior_mean\n",
    "        self.prior_std = prior_std\n",
    "        \n",
    "        return prior_mean,prior_std\n",
    "        \n",
    "        \n",
    "f1 = Fish('Phil',age=50)\n",
    "print('Estimated size:',f1.estimate)\n",
    "print(f1.get_stats())\n",
    "print('Fight?',f1.escalate(38))\n",
    "fig,ax = plt.subplots()\n",
    "f1.plot_prior(ax)\n",
    "print('pre-sum',np.sum(f1.prior))\n",
    "f1.update_prior(win=False,x_opp=20)\n",
    "print('post-sum',np.sum(f1.prior))\n",
    "f1.plot_prior(ax)\n",
    "#ax.plot(f1.xs,f1.prior * f1.xs,color='black')\n",
    "\n",
    "\n",
    "_ = f1.summary()\n",
    "\n",
    "print('Fight?',f1.escalate(40))\n",
    "print('Win?',f1.fight(40))\n",
    "print('Win fixed?',f1.fight_fixed(40))\n",
    "\n",
    "print(np.sum(f1.prior))\n",
    "\n",
    "prior_mean = np.sum(f1.prior * f1.xs / np.sum(f1.prior))\n",
    "prior_std = np.sum((f1.xs - prior_mean)**2 * f1.prior/(np.sum(f1.prior)))\n",
    "ax.axvline(prior_mean,color='red')\n",
    "ax.axvline(f1.estimate,color='black')\n",
    "\n",
    "fig.show()\n",
    "print(prior_std,np.sqrt(prior_std))\n",
    "print(f1.get_stats())"
   ]
  },
  {
   "cell_type": "code",
   "execution_count": 312,
   "id": "50839fc0",
   "metadata": {},
   "outputs": [
    {
     "ename": "IndentationError",
     "evalue": "expected an indented block (<ipython-input-312-5bcba7c4f132>, line 76)",
     "output_type": "error",
     "traceback": [
      "\u001b[0;36m  File \u001b[0;32m\"<ipython-input-312-5bcba7c4f132>\"\u001b[0;36m, line \u001b[0;32m76\u001b[0m\n\u001b[0;31m    def get_timed_means(self):\u001b[0m\n\u001b[0m      ^\u001b[0m\n\u001b[0;31mIndentationError\u001b[0m\u001b[0;31m:\u001b[0m expected an indented block\n"
     ]
    }
   ],
   "source": [
    "## Define simulation class:\n",
    "\n",
    "class SimParams():\n",
    "    def __init__(self,n_iterations=1000,n_fish=4,n_rounds=200,fight_selection='random',\n",
    "                effort_method=[1,1],outcome_params=[.3,.3,.3],update_method='bayes',effect_strength=[1,1]):\n",
    "        self.n_iterations = n_iterations\n",
    "        self.n_fish = n_fish\n",
    "        self.n_rounds = n_rounds\n",
    "        self.fight_selection = fight_selection ## this defines how much fish can pick their opponents\n",
    "        self.effort_method = effort_method     ## This is self-assessment vs opponent assessment, [1,1] is MA\n",
    "        self.outcome_params = outcome_params   ## This determines how fights are settled, skill,effort,luck\n",
    "        self.update_method = update_method     ## This determines how individuals update their self assessment\n",
    "        self.effect_strength = effect_strength ## This determines the relative strenght of the winner & loser effects\n",
    "        \n",
    "    def summary(self):\n",
    "        print('Number iterations:',self.n_iterations)\n",
    "        print('Number of Fish:',self.n_fish)\n",
    "        print('Number of rounds:',self.n_rounds)\n",
    "        print('Fight Selection:',self.fight_selection)\n",
    "        print('Fight Outcome:',self.outcome_params)\n",
    "        print('Effort Method:',self.effort_method)\n",
    "        print('Update Method:',self.update_method)\n",
    "\n",
    "\"\"\"    def __init__(self,fishes,fight_list = None,n_fights = None,\n",
    "                 f_method='balanced',f_outcome='math',f_params=[.3,.3,.3],u_method='bayes'):\n",
    "\"\"\"\n",
    "        \n",
    "class Simulation():\n",
    "    def __init__(self,params=SimParams()):\n",
    "        self.params = params\n",
    "        \n",
    "    def run_simulation(self):\n",
    "        all_stats = []\n",
    "        for i in range(self.n_iterations):\n",
    "            tank = self._build_tank(i)\n",
    "            tank.run_all()\n",
    "            t_stats = _get_tank_stats(tank)\n",
    "            all_stats.append(t_stats)\n",
    "    \n",
    "    def _build_tank(self,i): ## I Might want the iteration info available\n",
    "        p = self.params\n",
    "        fishes = [Fish() for f in p.n_fish]\n",
    "        n_fights = p.n_rounds\n",
    "        \n",
    "        return Tank(fishes,n_fights=p.n_rounds,f_method=p.fight_selection,f_params=p.outcome_params)\n",
    "    \n",
    "    def _get_tank_stats(self,tank):\n",
    "        return self._calc_linearity(tank),self._calc_stability(tank),self._calc_accuracy(tank)\n",
    "    \n",
    "    def _calc_linearity(self,tank):\n",
    "        n_fish = len(tank.fishes)\n",
    "        h_matrix = np.zeros([n_fish,n_fish])\n",
    "        win_record_dif = tank.win_record - np.transpose(tank.win_record)\n",
    "        h_matrix[win_record_dif > 0] = 1\n",
    "        tank.h_matrix = h_matrix\n",
    "        \n",
    "        ## DO THE MATHY THING HERE\n",
    "        \n",
    "        return linearity\n",
    "        \n",
    "    def _calc_stability(self,tank):\n",
    "        ## This means working through tank matrix by time, and I guess it's the standard deviation or something?\n",
    "        if tank.fight_selection == 'balanced':\n",
    "            stability = np.mean(np.std(tank.history,axis=0))\n",
    "        else:\n",
    "            ## First calculate a sliding window bigger than 2*n^2. We're going to have some missing values\n",
    "            min_slide = 2*tank.n_fish*(tank.n_fish-1)\n",
    "            ## will need to test this...\n",
    "            binned_history = np.convolve(mydata,np.ones([min_slide,tank.n_fish,tank.n_fish],dtype=int),'valid')\n",
    "            stability = np.mean(np.std(binned_history,axis=0))\n",
    "        return stability\n",
    "    \n",
    "    def _calc_accuracy(self,tank):\n",
    "        ## This is the correlation between size rank and hierarchy rank\n",
    "        ## It could also be the coefficient, to be even more precise...\n",
    "        return 0\n",
    "    \n",
    "    def get_timed_means(self):\n",
    "        ## Maybe this is a bad idea actually...It's really just binned history.\n",
    "        return linearity_history,stability_history,accuracy_history\n",
    "    \n",
    "    def get_mean_stats(self): ## this is calculating these across all tanks\n",
    "        \n",
    "        return mean_linearity,mean_stability,mean_accuracy\n",
    "    \n",
    "    def get_final_stats(self): ## This is calculating across all thanks, but only using the final info\n",
    "        \n",
    "        return final_linearity,final_stability,final_accuracy"
   ]
  },
  {
   "cell_type": "code",
   "execution_count": 249,
   "id": "22c42858",
   "metadata": {
    "code_folding": [
     43,
     51,
     67,
     112,
     127,
     141,
     153
    ],
    "colab": {
     "base_uri": "https://localhost:8080/"
    },
    "id": "702b1c92",
    "outputId": "f7ff632e-fa74-4dbb-ea4c-34025cbdbb8c"
   },
   "outputs": [
    {
     "name": "stdout",
     "output_type": "stream",
     "text": [
      "0 : 43.077744352093696 46.2625250501002\n",
      "1 : 56.196508139944946 46.2625250501002\n",
      "2 : 29.9702593252293 46.2625250501002\n",
      "0\n",
      "Running 100 times...\n",
      "0 : 43.077744352093696 41.032064128256515\n",
      "1 : 56.196508139944946 76.19238476953907\n",
      "2 : 29.9702593252293 18.366733466933866\n"
     ]
    }
   ],
   "source": [
    "## Define a long-term tank class:\n",
    "\n",
    "## Fight is a dictionary or maybe class:\n",
    "#Fish 1 vs Fish 2\n",
    "#Winner: Fish 2\n",
    "#Extent: None\n",
    "\n",
    "\n",
    "## Super simple object to keep track of matchups (and decide outcome if necessary)\n",
    "class Fight():\n",
    "    def __init__(self,fish1,fish2,outcome=\"math\",outcome_params=[.3,.3,.3],level=None,idx=0):\n",
    "        self.fish1 = fish1\n",
    "        self.fish2 = fish2\n",
    "        self.fishes = [fish1,fish2]\n",
    "        self.mechanism = outcome\n",
    "        self.level = level\n",
    "        self.outcome = '?'\n",
    "        self.params = outcome_params\n",
    "        self.idx = idx\n",
    "        \n",
    "    def run_outcome(self):\n",
    "        if self.mechanism == 'chance':\n",
    "            self.outcome = self.chance_outcome()\n",
    "        elif self.mechanism == 'escalate':\n",
    "            self.outcome,self.level = self.escalating_outcome()\n",
    "        elif self.mechanism == 'escalate_level':\n",
    "            self.outcome,self.level = self.escalating_by_level()\n",
    "        elif self.mechanism == 'wager':\n",
    "            self.outcome,self.level = self.wager()\n",
    "        elif self.mechanism == 'wager_estimate':\n",
    "            self.outcome,self.level = self.wager_estimate()\n",
    "        elif self.mechanism == 'wager_chance':\n",
    "            self.outcome,self.level = self.wager_chance()\n",
    "        elif self.mechanism == 'hock':\n",
    "            self.outcome,self.level = self.hock_huber()\n",
    "        elif self.mechanism == 'math':\n",
    "            self.outcome,self.level = self.mathy(self.params)\n",
    "            \n",
    "        else:\n",
    "            self.outcome = self.mechanism\n",
    "      \n",
    "        self.winner = self.fishes[self.outcome]\n",
    "        self.loser = self.fishes[1-self.outcome]\n",
    "        \n",
    "    def chance_outcome(self): ## This just pulls from the fish.fight, basically a dice roll vs the likelihood\n",
    "        prob_win = likelihood_function_size(self.fish1.size,self.fish2.size)\n",
    "        self.prob_win = prob_win\n",
    "        if np.random.random() < prob_win:\n",
    "            return 0\n",
    "        else:\n",
    "            return 1\n",
    "    \n",
    "    def escalating_outcome(self):\n",
    "        cont = True\n",
    "        level = 0\n",
    "        focal_fish = np.random.choice([0,1])\n",
    "        while cont and level < 5:\n",
    "            focal_fish = 1-focal_fish  ## define the focal fish\n",
    "            other_fish = 1-focal_fish  ## The other fish is defined as the other fish\n",
    "            cont = self.fishes[focal_fish].escalate_(self.fishes[other_fish].size)\n",
    "            if cont == True:\n",
    "                level += 1\n",
    "            else:\n",
    "                return 1-focal_fish,level\n",
    "        ## IF you escalate to 3, return the winner based on likelihood curve\n",
    "        winner = self.chance_outcome()\n",
    "        return winner,level\n",
    "            \n",
    "    def escalating_by_level(self):\n",
    "        cont = True\n",
    "        level = 0\n",
    "        focal_fish = np.random.choice([0,1])\n",
    "        while cont and level < 5:\n",
    "            focal_fish = 1-focal_fish  ## define the focal fish\n",
    "            other_fish = 1-focal_fish  ## The other fish is defined as the other fish\n",
    "            cont = self.fishes[focal_fish].escalate(self.fishes[other_fish].size,level)\n",
    "            if cont == True:\n",
    "                level += 1\n",
    "            else:\n",
    "                return 1-focal_fish,level\n",
    "        ## IF you escalate to 3, return the winner based on likelihood curve\n",
    "        winner = self.chance_outcome()\n",
    "        return winner,level\n",
    "\n",
    "    def _wager_curve(self,w,l=.25):\n",
    "        a = logit(1-l)\n",
    "        prob_win = w ** (float(np.abs(a))**np.sign(a)) / 2\n",
    "        return prob_win\n",
    "\n",
    "    ## This is useful because it paramaterizes the relative impact of size, effort, and luck\n",
    "    def mathy(self,param=[.5,.5,.5]):\n",
    "        s,e,l = param\n",
    "        f1_size = self.fish1.size\n",
    "        f2_size = self.fish2.size\n",
    "        max_size = max([f1_size,f2_size])\n",
    "        f1_rel_size = f1_size / max_size\n",
    "        f2_rel_size = f2_size / max_size\n",
    "        f1_effort = self.fish1.choose_effort(self.fish2)\n",
    "        f2_effort = self.fish2.choose_effort(self.fish1)\n",
    "        f1_wager = (f1_rel_size ** s) * (f1_effort ** e)\n",
    "        f2_wager = (f2_rel_size ** s) * (f2_effort ** e)\n",
    "        min_wager = min([f1_wager,f2_wager]) / (f1_wager + f2_wager)\n",
    "        f_min = np.argmin([f1_wager,f2_wager])\n",
    "        p_win = self._wager_curve(min_wager,l)\n",
    "        if random.random() < p_win: ## probability that the \"lower invested\" fish wins\n",
    "            winner = f_min\n",
    "            level = min_wager\n",
    "        else:\n",
    "            winner = 1-f_min\n",
    "            level = min_wager\n",
    "        return winner,level\n",
    "    \n",
    "    ## Choose based off of estimate\n",
    "    def wager(self):\n",
    "        ## Get each fish's estimated probability of being bigger \n",
    "        f1_wager = 1 - self.fish1.cdf_prior[np.argmax(self.fish1.xs > self.fish2.size)]\n",
    "        f2_wager = 1 - self.fish2.cdf_prior[np.argmax(self.fish2.xs > self.fish1.size)]\n",
    "        if f1_wager > f2_wager:\n",
    "            winner = 0\n",
    "            level = f2_wager\n",
    "        elif f2_wager > f1_wager:\n",
    "            winner = 1\n",
    "            level = f1_wager\n",
    "        elif f2_wager == f1_wager:\n",
    "            winner = self.chance_outcome()\n",
    "            level = f1_wager\n",
    "        return winner, level\n",
    "    \n",
    "    def wager_estimate(self):\n",
    "        f1_wager = self.fish1.estimate\n",
    "        f2_wager = self.fish2.estimate\n",
    "        if f1_wager > f2_wager:\n",
    "            winner = 0\n",
    "            level = f2_wager\n",
    "        elif f2_wager > f1_wager:\n",
    "            winner = 1\n",
    "            level = f1_wager\n",
    "        elif f2_wager == f1_wager:\n",
    "            winner = self.chance_outcome()\n",
    "            level = f1_wager\n",
    "        return winner, level\n",
    "    \n",
    "    def wager_chance(self):\n",
    "        f1_wager = self.fish1.estimate\n",
    "        f2_wager = self.fish2.estimate\n",
    "        #prob_f1 = f1_wager / (f1_wager + f2_wager)\n",
    "        prob_f1 = likelihood_function_size(f1_wager,f2_wager)\n",
    "        if random.random() < prob_f1:\n",
    "            winner = 0\n",
    "        else:\n",
    "            winner = 1\n",
    "        level = min([f1_wager,f2_wager])\n",
    "        return winner,level\n",
    "    \n",
    "    def hock_huber(self,scale=.1):\n",
    "        f1_est = self.fish1.hock_estimate\n",
    "        f2_est = self.fish1.hock_estimate\n",
    "        prob_f1 = f1_est / (f1_est + f2_est)\n",
    "        if random.random() < prob_f1:\n",
    "            winner = 0\n",
    "        else:\n",
    "            winner = 1\n",
    "        level = min([f1_est,f2_est]) * scale\n",
    "        return winner,level\n",
    "    \n",
    "    def summary(self):\n",
    "        prob_outcome = self.prob_win\n",
    "        if self.outcome:\n",
    "            prob_outcome = 1 - prob_outcome\n",
    "        \n",
    "        return ' '.join([str(self.fish1.name),'vs',str(self.fish2.name),str(self.outcome),': So,',str(self.winner.name),'won, with probability',str(prob_outcome)])\n",
    "\n",
    "\n",
    "class Tank():\n",
    "    def __init__(self,fishes,fight_list = None,n_fights = None,\n",
    "                 f_method='balanced',f_outcome='math',f_params=[.3,.3,.3],u_method='bayes'):\n",
    "        self.fishes = fishes\n",
    "        self.f_method = f_method\n",
    "        self.f_outcome = f_outcome\n",
    "        self.u_method = u_method\n",
    "        self.win_record = np.zeros([len(fishes),len(fishes)])\n",
    "        \n",
    "        if fight_list is not None:\n",
    "            self.fight_list = fight_list\n",
    "        else:\n",
    "            if n_fights is None:\n",
    "                ## if n is not defined, just run each one once\n",
    "                self.fight_list = self.get_matchups(f_method,f_outcome)\n",
    "                self.n_fights = len(self.fight_list)\n",
    "            else:\n",
    "                self.fight_list = self.get_matchups(f_method,f_outcome,n_fights)\n",
    "        self.history = np.zeros([n_fights,len(fishes),len(fishes)])\n",
    "        \n",
    "    \n",
    "    ## Randomly match up fishes\n",
    "    \n",
    "    def get_matchups(self,f_method='balanced',f_outcome='chance',n_fights=10):\n",
    "        fight_list = []\n",
    "        \n",
    "        if f_method == 'balanced':\n",
    "            short_list = []\n",
    "            for i in range(n_fights):\n",
    "                for f1,f2 in itertools.combinations(self.fishes, 2):\n",
    "                    fight_list.append(Fight(f1,f2,outcome=f_outcome,idx=i)) ## So balanced is organized as rounds\n",
    "        if f_method == 'random':\n",
    "            combs = list(itertools.combinations(self.fishes,2))\n",
    "            for n in range(n_fights):\n",
    "                f1,f2 = random.choice(combs)\n",
    "                fight_list.append(Fight(f1,f2,outcome=f_outcome,idx=i))\n",
    "        return fight_list\n",
    "    \n",
    "    def process_fight(self,fight): ## This works without returning because of how objects work in python\n",
    "        fight.run_outcome()\n",
    "        #print('before,after')\n",
    "        #print(fight.winner.estimate)\n",
    "        fight.winner.update_prior(True,fight.loser.size)\n",
    "        #print(fight.winner.estimate)\n",
    "        #print()\n",
    "        fight.loser.update_prior(False,fight.winner.size)\n",
    "        #return fight.winner,fight.loser\n",
    "        self.win_record[fight.winner.idx,fight.loser.idx] += 1\n",
    "        self.history[fight.idx,fight.winner.idx,fight.loser.idx] = 1 ## Note, this works a bit different for 'random' and 'balanced'\n",
    "        \n",
    "    def process_hock(self,fight):\n",
    "        fight.run_outcome()\n",
    "        fight.winner.update_hock(True,fight.loser.hock_estimate,fight.level)\n",
    "        fight.loser.update_hock(False,fight.winner.hock_estimate,fight.level)\n",
    "    \n",
    "    def print_status(self):\n",
    "        for f in self.fishes:\n",
    "            print(f.name,':',f.size,f.estimate)\n",
    "    def run_all(self,print_me=False):\n",
    "        if print_me:\n",
    "            print(\"Starting fights!\")\n",
    "            print(\"Initial status_____\")\n",
    "            self.print_status()\n",
    "        if self.u_method == 'hock':\n",
    "            process = self.process_hock\n",
    "        else:\n",
    "            process = self.process_fight\n",
    "        for c in self.fight_list:\n",
    "            process(c)\n",
    "            if print_me:\n",
    "                print('UPDATE:_____')\n",
    "                print(c.summary())\n",
    "                self.print_status()\n",
    "    def __getitem__(self,idx):\n",
    "        return self.fishes[idx]\n",
    "\n",
    "f0 = Fish(0,age=50)\n",
    "f1 = Fish(1,age=50)\n",
    "\n",
    "f2 = Fish(2,age=50)\n",
    "\n",
    "fish_list = [f0,f1,f2]\n",
    "          \n",
    "\n",
    "fight0 = Fight(f0,f1)\n",
    "fight1 = Fight(f1,f2)\n",
    "fight2 = Fight(f2,f0)\n",
    "fight_list = [fight0,fight1,fight2]\n",
    "\n",
    "t0 = Tank(fish_list,f_method = 'random',f_outcome='escalate',n_fights=1000)\n",
    "t0.print_status()\n",
    "print(t0[0].name)\n",
    "\n",
    "t0.run_all()\n",
    "print('Running 100 times...')\n",
    "t0.print_status()"
   ]
  },
  {
   "cell_type": "code",
   "execution_count": 311,
   "id": "13bfdca3",
   "metadata": {},
   "outputs": [
    {
     "name": "stdout",
     "output_type": "stream",
     "text": [
      "pre outcome ?\n",
      "46.2625250501002 49.168336673346694\n",
      "50 49\n",
      "wager,test: (1, 0.3744606050348669)\n",
      "mathy test: (1, 0.49491081247320423)\n",
      "outcome 1 0.4847753044939101\n",
      "posterior estimates: 42.48496993987976 54.39879759519038\n"
     ]
    }
   ],
   "source": [
    "f0 = Fish(0,age=50,size=50)\n",
    "f1 = Fish(1,age=55,size=49)\n",
    "\n",
    "fight_test = Fight(f0,f1,outcome='math',outcome_params=[0,1,0])\n",
    "print('pre outcome',fight_test.outcome)\n",
    "print(f0.estimate,f1.estimate)\n",
    "print(f0.size,f1.size)\n",
    "print('wager,test:',fight_test.wager())\n",
    "print('mathy test:',fight_test.mathy())\n",
    "fight_test.run_outcome()\n",
    "fight_test.winner.update_prior(True,fight_test.loser.size)\n",
    "fight_test.loser.update_prior(False,fight_test.winner.size)\n",
    "print('outcome',fight_test.outcome,fight_test.level)\n",
    "print('posterior estimates:',f0.estimate,f1.estimate)"
   ]
  },
  {
   "cell_type": "code",
   "execution_count": 8,
   "id": "31239901",
   "metadata": {
    "colab": {
     "base_uri": "https://localhost:8080/"
    },
    "id": "b9065b1a",
    "outputId": "852625af-9970-4313-c233-89106e61b9bc"
   },
   "outputs": [
    {
     "name": "stdout",
     "output_type": "stream",
     "text": [
      "46.2625250501002 40.51237129576411\n",
      "True\n",
      "True\n",
      "? None\n",
      "0 : 40.51237129576411 46.2625250501002\n",
      "1 : 10.132536145645048 46.2625250501002\n",
      "0 : 40.51237129576411 46.2625250501002\n",
      "1 : 10.132536145645048 34.63927855711423\n",
      "0 5\n",
      "34.63927855711423 40.51237129576411\n",
      "False\n"
     ]
    }
   ],
   "source": [
    "f0 = Fish(0)\n",
    "f1 = Fish(1)\n",
    "\n",
    "print(f1.estimate,f0.size)\n",
    "print(f1.probably_bigger(f0.size,.5))\n",
    "print(f1.probably_bigger(f1.size,.5))\n",
    "\n",
    "t1 = Tank([f0,f1],f_method = 'balanced',f_outcome='escalate_level',n_fights=3)\n",
    "print(t1.fight_list[0].outcome,t1.fight_list[0].level)\n",
    "t1.print_status()\n",
    "t1.run_all()\n",
    "t1.print_status()\n",
    "print(t1.fight_list[0].outcome,t1.fight_list[0].level)\n",
    "\n",
    "print(f1.estimate,f0.size)\n",
    "print(f1.probably_bigger(f0.size,.1))"
   ]
  },
  {
   "cell_type": "code",
   "execution_count": 86,
   "id": "ba2f1b5b",
   "metadata": {},
   "outputs": [
    {
     "name": "stdout",
     "output_type": "stream",
     "text": [
      "2.0\n"
     ]
    }
   ],
   "source": [
    "test_method = np.mean\n",
    "print(test_method([1,2,3]))"
   ]
  },
  {
   "cell_type": "code",
   "execution_count": 9,
   "id": "ec88bdcc",
   "metadata": {
    "colab": {
     "base_uri": "https://localhost:8080/"
    },
    "id": "qSyrShgHdhp4",
    "outputId": "eedd0be9-2bd9-40ce-ed8b-51e5b2d0f5ef"
   },
   "outputs": [
    {
     "name": "stdout",
     "output_type": "stream",
     "text": [
      "33.76753507014028\n",
      "33.76753507014028\n"
     ]
    }
   ],
   "source": [
    "normed_prior = f1.prior / np.sum(f1.prior)\n",
    "cdf_prior = np.cumsum(normed_prior)\n",
    "print(f1.xs[cdf_prior > .5][0])\n",
    "\n",
    "\n",
    "print(f1.xs[np.argmax(cdf_prior > .5)])"
   ]
  },
  {
   "cell_type": "code",
   "execution_count": 115,
   "id": "b147e82f",
   "metadata": {
    "colab": {
     "base_uri": "https://localhost:8080/",
     "height": 505
    },
    "id": "4225e3e4",
    "outputId": "07a5fa75-e5ed-4b4f-dd4e-89be3f936a2e"
   },
   "outputs": [
    {
     "name": "stdout",
     "output_type": "stream",
     "text": [
      "?\n",
      "0 : 47.9777928103587 46.2625250501002\n",
      "1 : 47.15575062848105 46.2625250501002\n",
      "2 : 50.67804961917083 46.2625250501002\n",
      "3 : 52.49345433365116 46.2625250501002\n",
      "4 : 48.4875572776441 46.2625250501002\n",
      "Running 1000 times...\n",
      "0 : 47.9777928103587 79.96993987975952\n",
      "1 : 47.15575062848105 49.45891783567134\n",
      "2 : 50.67804961917083 46.55310621242485\n",
      "3 : 52.49345433365116 28.246492985971944\n",
      "4 : 48.4875572776441 52.07414829659319\n"
     ]
    },
    {
     "name": "stderr",
     "output_type": "stream",
     "text": [
      "/home/ammon/anaconda3/lib/python3.6/site-packages/matplotlib/figure.py:459: UserWarning: matplotlib is currently using a non-GUI backend, so cannot show the figure\n",
      "  \"matplotlib is currently using a non-GUI backend, \"\n"
     ]
    },
    {
     "data": {
      "image/png": "[encoded data removed]",
      "text/plain": [
       "<Figure size 432x288 with 1 Axes>"
      ]
     },
     "metadata": {},
     "output_type": "display_data"
    }
   ],
   "source": [
    "if True:\n",
    "    f0 = Fish(0,age=50)\n",
    "    f1 = Fish(1,age=50)\n",
    "\n",
    "    f2 = Fish(2,age=50)\n",
    "    f3 = Fish(3,age=50)\n",
    "    f4 = Fish(4,age=50)\n",
    "\n",
    "    fish_list = [Fish(f,age=50) for f in range(5)]\n",
    "    #fish_list = [Fish(f,age=50) for f in range(5)]\n",
    "\n",
    "    t0 = Tank(fish_list,f_method = 'random',f_outcome='wager_chance',n_fights=8000)\n",
    "else:\n",
    "    t0 = Tank(fish_list,f_method = 'random',f_outcome='wager',n_fights=8000)\n",
    "\n",
    "print(t0.fight_list[0].outcome)\n",
    "\n",
    "t0.print_status()\n",
    "t0.run_all()\n",
    "print('Running 1000 times...')\n",
    "t0.print_status()\n",
    "\n",
    "fig,ax = plt.subplots()\n",
    "\n",
    "sizes = []\n",
    "for i in range(len(t0.fishes)):\n",
    "    f = t0.fishes[i]\n",
    "    sizes.append(f.size)\n",
    "    ax.plot(f.est_record,color=cm.tab10(i),linestyle=':')\n",
    "    ax.plot(f.est_record_,color=cm.tab10(i))\n",
    "    if i == 0:\n",
    "        ax.axhline(f.size,color =cm.tab10(i),label='Actual Size')\n",
    "        ax.fill_between(np.arange(len(f.est_record)),np.array(f.est_record_) + np.array(f.sdest_record),\n",
    "                    np.array(f.est_record_) - np.array(f.sdest_record),\n",
    "                    color=cm.tab10(i),alpha=.3,label='Estimated Prior')\n",
    "    else:\n",
    "        ax.axhline(f.size,color =cm.tab10(i))\n",
    "        ax.fill_between(np.arange(len(f.est_record)),np.array(f.est_record_) + np.array(f.sdest_record),\n",
    "                    np.array(f.est_record_) - np.array(f.sdest_record),\n",
    "                    color=cm.tab10(i),alpha=.3)\n",
    "    \n",
    "ax.axhline(growth_func(50),color='black',label='Original Estimate')\n",
    "ax.set_xlabel('n contests')\n",
    "ax.set_ylabel('Size (mm)')\n",
    "#ax.set_ylim([min(sizes)*.8,max(sizes)*1.3])\n",
    "#ax.set_ylim([47,53])\n",
    "fig.legend()\n",
    "fig.show()"
   ]
  },
  {
   "cell_type": "code",
   "execution_count": 114,
   "id": "921e0429",
   "metadata": {
    "colab": {
     "base_uri": "https://localhost:8080/",
     "height": 505
    },
    "id": "4225e3e4",
    "outputId": "07a5fa75-e5ed-4b4f-dd4e-89be3f936a2e"
   },
   "outputs": [
    {
     "name": "stdout",
     "output_type": "stream",
     "text": [
      "?\n",
      "0 : 31.20250248268392 46.2625250501002\n",
      "1 : 36.882314365082614 46.2625250501002\n",
      "2 : 40.18805628049627 46.2625250501002\n",
      "3 : 48.70614087313881 46.2625250501002\n",
      "4 : 39.492478832851475 46.2625250501002\n",
      "Running 1000 times...\n",
      "0 : 31.20250248268392 46.2625250501002\n",
      "1 : 36.882314365082614 46.2625250501002\n",
      "2 : 40.18805628049627 46.2625250501002\n",
      "3 : 48.70614087313881 46.2625250501002\n",
      "4 : 39.492478832851475 46.2625250501002\n"
     ]
    },
    {
     "name": "stderr",
     "output_type": "stream",
     "text": [
      "/home/ammon/anaconda3/lib/python3.6/site-packages/matplotlib/figure.py:459: UserWarning: matplotlib is currently using a non-GUI backend, so cannot show the figure\n",
      "  \"matplotlib is currently using a non-GUI backend, \"\n"
     ]
    },
    {
     "data": {
      "image/png": "[encoded data removed]",
      "text/plain": [
       "<Figure size 432x288 with 1 Axes>"
      ]
     },
     "metadata": {},
     "output_type": "display_data"
    }
   ],
   "source": [
    "## Run with Hock-Huber approach\n",
    "\n",
    "if True:\n",
    "    f0 = Fish(0,age=50)\n",
    "    f1 = Fish(1,age=50)\n",
    "\n",
    "    f2 = Fish(2,age=50)\n",
    "    f3 = Fish(3,age=50)\n",
    "    f4 = Fish(4,age=50)\n",
    "\n",
    "    fish_list = [Fish(f,age=50) for f in range(5)]\n",
    "    #fish_list = [Fish(f,age=50) for f in range(5)]\n",
    "\n",
    "    t0 = Tank(fish_list,f_method = 'random',f_outcome='hock',u_method='hock',n_fights=700)\n",
    "\n",
    "print(t0.fight_list[0].outcome)\n",
    "\n",
    "t0.print_status()\n",
    "t0.run_all()\n",
    "print('Running 1000 times...')\n",
    "t0.print_status()\n",
    "\n",
    "fig,ax = plt.subplots()\n",
    "\n",
    "sizes = []\n",
    "for i in range(len(t0.fishes)):\n",
    "    f = t0.fishes[i]\n",
    "    sizes.append(f.size)\n",
    "    ax.plot(f.hock_record,color=cm.tab10(i))\n",
    "    ax.axhline(f.hock_record[-1],color=cm.tab10(i))\n",
    "    \n",
    "ax.axhline(f.hock_record[0],color='black',label='Original Estimate')\n",
    "ax.set_xlabel('n contests')\n",
    "ax.set_ylabel('Arbitrary units')\n",
    "#ax.set_ylim([min(sizes)*.8,max(sizes)*1.3])\n",
    "#ax.set_ylim([47,53])\n",
    "fig.legend()\n",
    "fig.show()"
   ]
  },
  {
   "cell_type": "code",
   "execution_count": 12,
   "id": "47473f06",
   "metadata": {
    "id": "f43fc5e8",
    "outputId": "1852abae-0918-40c1-954e-ddde4fe0fd44"
   },
   "outputs": [
    {
     "name": "stderr",
     "output_type": "stream",
     "text": [
      "/home/ammon/anaconda3/lib/python3.6/site-packages/matplotlib/figure.py:459: UserWarning: matplotlib is currently using a non-GUI backend, so cannot show the figure\n",
      "  \"matplotlib is currently using a non-GUI backend, \"\n"
     ]
    },
    {
     "data": {
      "text/plain": [
       "(44.39683920759835, 0.33637187023537046)"
      ]
     },
     "execution_count": 12,
     "metadata": {},
     "output_type": "execute_result"
    },
    {
     "data": {
      "image/png": "[encoded data removed]",
      "text/plain": [
       "<Figure size 432x288 with 1 Axes>"
      ]
     },
     "metadata": {},
     "output_type": "display_data"
    }
   ],
   "source": [
    "fig,ax = plt.subplots()\n",
    "\n",
    "ax.plot(fish_list[0].xs,fish_list[0].prior)\n",
    "fig.show()\n",
    "\n",
    "fish_list[0].get_stats()"
   ]
  },
  {
   "cell_type": "code",
   "execution_count": 13,
   "id": "ca8b2448",
   "metadata": {
    "id": "dc5166dc",
    "outputId": "bd14751d-dd8d-45fd-d1bd-26307fcb5f2b"
   },
   "outputs": [
    {
     "name": "stderr",
     "output_type": "stream",
     "text": [
      "/home/ammon/anaconda3/lib/python3.6/site-packages/matplotlib/figure.py:459: UserWarning: matplotlib is currently using a non-GUI backend, so cannot show the figure\n",
      "  \"matplotlib is currently using a non-GUI backend, \"\n"
     ]
    },
    {
     "data": {
      "image/png": "[encoded data removed]",
      "text/plain": [
       "<Figure size 432x288 with 1 Axes>"
      ]
     },
     "metadata": {},
     "output_type": "display_data"
    }
   ],
   "source": [
    "## How many losses does it take to become fixed in a new idea: \n",
    "## Answer: Depends a lot on the strength of your existing prior\n",
    "\n",
    "xs = np.arange(5,150)\n",
    "t = 1500\n",
    "x_opp = 55\n",
    "win = False\n",
    "prior = prior_size(t,xs)\n",
    "\n",
    "likelihood_w = define_likelihood(x_opp,xs,win=True)\n",
    "\n",
    "likelihood_l = define_likelihood(x_opp,xs,win=False)\n",
    "\n",
    "fig,ax = plt.subplots()\n",
    "ax.plot(xs,prior,color='black')\n",
    "\n",
    "ax.axvline(x_opp,color='red')\n",
    "N = 10\n",
    "for i in range(N):\n",
    "    posterior = update(prior,likelihood_l)\n",
    "    ax.plot(xs,posterior,color=cm.viridis(i/N))\n",
    "    prior = posterior\n",
    "    \n",
    "for i in range(N):\n",
    "    posterior = update(prior,likelihood_w)\n",
    "    ax.plot(xs,posterior,color=cm.inferno(i/N))\n",
    "    prior = posterior\n",
    "fig.show()"
   ]
  },
  {
   "cell_type": "code",
   "execution_count": null,
   "id": "fbe0184f",
   "metadata": {
    "id": "fb4a575f",
    "outputId": "a9dfa970-1c01-4dc6-b489-a80fb7d8c8fe"
   },
   "outputs": [
    {
     "name": "stdout",
     "output_type": "stream",
     "text": [
      "34.231221276268755\n",
      "21.56312625250501\n",
      "21.56312625250501\n"
     ]
    },
    {
     "data": {
      "image/png": "[encoded data removed]",
      "text/plain": [
       "<Figure size 432x288 with 1 Axes>"
      ]
     },
     "metadata": {
      "needs_background": "light"
     },
     "output_type": "display_data"
    }
   ],
   "source": [
    "fig,ax = plt.subplots()\n",
    "ax.plot(f1.prior)\n",
    "print(f1.size)\n",
    "print(f1.estimate)\n",
    "print(f1.xs[np.argmax(f1.prior)])"
   ]
  },
  {
   "cell_type": "code",
   "execution_count": null,
   "id": "0573670c",
   "metadata": {
    "id": "9e79e5b0",
    "outputId": "e90b3362-90f8-4898-b234-ab69acc24d4a"
   },
   "outputs": [
    {
     "name": "stdout",
     "output_type": "stream",
     "text": [
      "47.65575439996869\n"
     ]
    },
    {
     "name": "stderr",
     "output_type": "stream",
     "text": [
      "/tmp/ipykernel_7584/1060894873.py:127: UserWarning: Matplotlib is currently using module://matplotlib_inline.backend_inline, which is a non-GUI backend, so cannot show the figure.\n",
      "  fig.show()\n"
     ]
    },
    {
     "data": {
      "image/png": "[encoded data removed]",
      "text/plain": [
       "<Figure size 432x288 with 2 Axes>"
      ]
     },
     "metadata": {
      "needs_background": "light"
     },
     "output_type": "display_data"
    }
   ],
   "source": [
    "## expected, same expected, size-matched surprise\n",
    "f1 = Fish()\n",
    "\n",
    "print(f1.size)\n",
    "## Note that because of the nature of objects, this will update the fish as you go\n",
    "\n",
    "SHIFT_h = True\n",
    "def win_win_lose(fish,opp_scale=.88,plot_me=False):\n",
    "    x_opp1 = fish.size * opp_scale\n",
    "    x_opp2 = fish.size * opp_scale\n",
    "    x_opp3 = fish.size\n",
    "    \n",
    "    if plot_me:\n",
    "        fig,ax = plt.subplots()\n",
    "        fish.plot_prior(ax)\n",
    "    \n",
    "    prior0 = fish.prior\n",
    "    est0 = fish.estimate\n",
    "    posterior1,est1 = fish.update_prior(True,x_opp1)\n",
    "    if SHIFT_h:\n",
    "        shift1 = np.sum(rel_entr(posterior1,prior0)) * np.sign(est1-est0)\n",
    "    else:\n",
    "        shift1 = est1 - est0\n",
    "    if plot_me:\n",
    "        fish.plot_prior(ax)\n",
    "    \n",
    "    posterior2,est2 = fish.update_prior(True,x_opp2)\n",
    "    \n",
    "    if SHIFT_h:\n",
    "        shift2 = np.sum(rel_entr(posterior2,posterior1)) * np.sign(est2-est1)\n",
    "    else:\n",
    "        shift2 = est2 - est1\n",
    "    \n",
    "    if plot_me:\n",
    "        fish.plot_prior(ax)\n",
    "    \n",
    "    posterior3,est3 = fish.update_prior(False,x_opp3)\n",
    "    if SHIFT_h:\n",
    "        shift3 = np.sum(rel_entr(posterior3,posterior2)) * np.sign(est3-est2)\n",
    "    else:\n",
    "        shift3 = est3 - est2\n",
    "    #print(np.sum(rel_entr(posterior3,posterior2)))\n",
    "    if plot_me:\n",
    "        fish.plot_prior(ax)\n",
    "    return shift1,shift2,shift3\n",
    "\n",
    "def win_win_win(fish,opp_scale=.88,plot_me=False):\n",
    "    x_opp1 = fish.size * opp_scale\n",
    "    x_opp2 = fish.size * opp_scale\n",
    "    x_opp3 = fish.size\n",
    "    \n",
    "    if plot_me:\n",
    "        fig,ax = plt.subplots()\n",
    "        fish.plot_prior(ax)\n",
    "    \n",
    "    prior0 = fish.prior\n",
    "    est0 = fish.estimate\n",
    "    posterior1,est1 = fish.update_prior(True,x_opp1)\n",
    "    if SHIFT_h:\n",
    "        shift1 = np.sum(rel_entr(posterior1,prior0)) * np.sign(est1-est0)\n",
    "    else:\n",
    "        shift1 = est1 - est0\n",
    "    if plot_me:\n",
    "        fish.plot_prior(ax)\n",
    "    \n",
    "    posterior2,est2 = fish.update_prior(True,x_opp2)\n",
    "    if SHIFT_h:\n",
    "        shift2 = np.sum(rel_entr(posterior2,posterior1)) * np.sign(est2-est1)\n",
    "    else:\n",
    "        shift2 = est2 - est1\n",
    "    \n",
    "    if plot_me:\n",
    "        fish.plot_prior(ax)\n",
    "    \n",
    "    posterior3,est3 = fish.update_prior(True,x_opp3)\n",
    "    \n",
    "    if SHIFT_h:\n",
    "        shift3 = np.sum(rel_entr(posterior3,posterior2)) * np.sign(est3-est2)\n",
    "    else:\n",
    "        shift3 = est3 - est2\n",
    "    #print(np.sum(rel_entr(posterior3,posterior2)))\n",
    "    if plot_me:\n",
    "        fish.plot_prior(ax)\n",
    "    return shift1,shift2,shift3\n",
    "\n",
    "N = 1000\n",
    "fishes0 = []\n",
    "win00,win01,loss02 = [],[],[]\n",
    "\n",
    "\n",
    "fig,(ax1,ax0) = plt.subplots(1,2)\n",
    "alph = .1\n",
    "\n",
    "opp_scale = .88\n",
    "for n in range(N):\n",
    "    fishes0.append(Fish(n))\n",
    "    shifts = win_win_lose(fishes0[n],opp_scale)\n",
    "    win00.append(shifts[0])\n",
    "    win01.append(shifts[1])\n",
    "    loss02.append(shifts[2])\n",
    "    \n",
    "ax0.boxplot([win00,win01,loss02])\n",
    "ax0.scatter([1]*N,win00,color='green',alpha=alph)\n",
    "ax0.scatter([2]*N,win01,color='green',alpha=alph)\n",
    "ax0.scatter([3]*N,loss02,color='red',alpha=alph)\n",
    "#ax0.set_ylim([-1,1])\n",
    "\n",
    "\n",
    "fishes1 = []\n",
    "win10,win11,win12 = [],[],[]\n",
    "\n",
    "for n in range(N):\n",
    "    fishes1.append(Fish(n))\n",
    "    shifts = win_win_win(fishes1[n],opp_scale)\n",
    "    win10.append(shifts[0])\n",
    "    win11.append(shifts[1])\n",
    "    win12.append(shifts[2])\n",
    "    \n",
    "\n",
    "ax1.boxplot([win10,win11,win12])\n",
    "ax1.scatter([1]*N,win10,color='green',alpha=alph)\n",
    "ax1.scatter([2]*N,win11,color='green',alpha=alph)\n",
    "ax1.scatter([3]*N,win12,color='green',alpha=alph)\n",
    "\n",
    "ax1.set_ylim([-4.1,2.3])\n",
    "\n",
    "fig.show()\n",
    "\n",
    "\n"
   ]
  },
  {
   "cell_type": "code",
   "execution_count": null,
   "id": "b729dc33",
   "metadata": {
    "id": "b1e21cb8",
    "outputId": "8133e0ca-b536-4e51-af66-d9dfe87f795b",
    "scrolled": true
   },
   "outputs": [
    {
     "name": "stdout",
     "output_type": "stream",
     "text": [
      "40.72774321711426\n"
     ]
    },
    {
     "name": "stderr",
     "output_type": "stream",
     "text": [
      "/tmp/ipykernel_7584/2706600171.py:125: UserWarning: Matplotlib is currently using module://matplotlib_inline.backend_inline, which is a non-GUI backend, so cannot show the figure.\n",
      "  fig.show()\n"
     ]
    },
    {
     "data": {
      "image/png": "[encoded data removed]",
      "text/plain": [
       "<Figure size 432x288 with 2 Axes>"
      ]
     },
     "metadata": {
      "needs_background": "light"
     },
     "output_type": "display_data"
    }
   ],
   "source": [
    "## expected, same expected, size-matched surprise\n",
    "f1 = Fish(1)\n",
    "\n",
    "print(f1.size)\n",
    "## Note that because of the nature of objects, this will update the fish as you go\n",
    "def lose_lose_win(fish,opp_scale=1.14,plot_me=False):\n",
    "    x_opp1 = fish.size * opp_scale\n",
    "    x_opp2 = fish.size * opp_scale\n",
    "    x_opp3 = fish.size\n",
    "    \n",
    "    if plot_me:\n",
    "        fig,ax = plt.subplots()\n",
    "        fish.plot_prior(ax)\n",
    "    \n",
    "    prior0 = fish.prior\n",
    "    est0 = fish.estimate\n",
    "    posterior1,est1 = fish.update_prior(False,x_opp1)\n",
    "    \n",
    "    if SHIFT_h:\n",
    "        shift1 = np.sum(rel_entr(posterior1,prior0)) * np.sign(est1-est0)\n",
    "    else:\n",
    "        shift1 = est1 - est0\n",
    "    if plot_me:\n",
    "        fish.plot_prior(ax)\n",
    "    \n",
    "    posterior2,est2 = fish.update_prior(False,x_opp2)\n",
    "    if SHIFT_h:\n",
    "        shift2 = np.sum(rel_entr(posterior2,posterior1)) * np.sign(est2-est1)\n",
    "    else:\n",
    "        shift2 = est2 - est1\n",
    "    \n",
    "    if plot_me:\n",
    "        fish.plot_prior(ax)\n",
    "    \n",
    "    posterior3,est3 = fish.update_prior(True,x_opp3)\n",
    "    if SHIFT_h:\n",
    "        shift3 = np.sum(rel_entr(posterior3,posterior2)) * np.sign(est3-est2)\n",
    "    else:\n",
    "        shift3 = est3 - est2\n",
    "    \n",
    "    #print(np.sum(rel_entr(posterior3,posterior2)))\n",
    "    if plot_me:\n",
    "        fish.plot_prior(ax)\n",
    "    return shift1,shift2,shift3\n",
    "\n",
    "def lose_lose_lose(fish,opp_scale=1.14,plot_me=False):\n",
    "    x_opp1 = fish.size * opp_scale\n",
    "    x_opp2 = fish.size * opp_scale\n",
    "    x_opp3 = fish.size\n",
    "    \n",
    "    if plot_me:\n",
    "        fig,ax = plt.subplots()\n",
    "        fish.plot_prior(ax)\n",
    "    \n",
    "    prior0 = fish.prior\n",
    "    est0 = fish.estimate\n",
    "    posterior1,est1 = fish.update_prior(False,x_opp1)\n",
    "    if SHIFT_h:\n",
    "        shift1 = np.sum(rel_entr(posterior1,prior0)) * np.sign(est1-est0)\n",
    "    else:\n",
    "        shift1 = est1 - est0\n",
    "    \n",
    "    if plot_me:\n",
    "        fish.plot_prior(ax)\n",
    "    \n",
    "    posterior2,est2 = fish.update_prior(False,x_opp2)\n",
    "    if SHIFT_h:\n",
    "        shift2 = np.sum(rel_entr(posterior2,posterior1)) * np.sign(est2-est1)\n",
    "    else:\n",
    "        shift2 = est2 - est1\n",
    "    \n",
    "    if plot_me:\n",
    "        fish.plot_prior(ax)\n",
    "    \n",
    "    posterior3,est3 = fish.update_prior(False,x_opp3)\n",
    "    if SHIFT_h:\n",
    "        shift3 = np.sum(rel_entr(posterior3,posterior2)) * np.sign(est3-est2)\n",
    "    else:\n",
    "        shift3 = est3 - est2\n",
    "    #print(np.sum(rel_entr(posterior3,posterior2)))\n",
    "    if plot_me:\n",
    "        fish.plot_prior(ax)\n",
    "    return shift1,shift2,shift3\n",
    "\n",
    "N = 1000\n",
    "fishes0 = []\n",
    "lose00,lose01,win02 = [],[],[]\n",
    "\n",
    "\n",
    "fig,(ax0,ax1) = plt.subplots(1,2)\n",
    "alph = .1\n",
    "\n",
    "opp_scale = 1.50\n",
    "for n in range(N):\n",
    "    fishes0.append(Fish(n))\n",
    "    shifts = lose_lose_win(fishes0[n],opp_scale)\n",
    "    lose00.append(shifts[0])\n",
    "    lose01.append(shifts[1])\n",
    "    win02.append(shifts[2])\n",
    "    \n",
    "ax0.boxplot([lose00,lose01,win02])\n",
    "ax0.scatter([1]*N,lose00,color='red',alpha=alph)\n",
    "ax0.scatter([2]*N,lose00,color='red',alpha=alph)\n",
    "ax0.scatter([3]*N,win02,color='green',alpha=alph)\n",
    "#ax0.set_ylim([-1,1])\n",
    "\n",
    "\n",
    "fishes1 = []\n",
    "loss10,loss11,loss12 = [],[],[]\n",
    "\n",
    "for n in range(N):\n",
    "    fishes1.append(Fish(n))\n",
    "    shifts = lose_lose_lose(fishes1[n],opp_scale)\n",
    "    loss10.append(shifts[0])\n",
    "    loss11.append(shifts[1])\n",
    "    loss12.append(shifts[2])\n",
    "    \n",
    "\n",
    "ax1.boxplot([loss10,loss11,loss12])\n",
    "ax1.scatter([1]*N,loss10,color='red',alpha=alph)\n",
    "ax1.scatter([2]*N,loss11,color='red',alpha=alph)\n",
    "ax1.scatter([3]*N,loss12,color='red',alpha=alph)\n",
    "#ax1.set_ylim([-1,1])\n",
    "\n",
    "fig.show()\n"
   ]
  },
  {
   "cell_type": "code",
   "execution_count": null,
   "id": "99881bb1",
   "metadata": {
    "id": "7151d3f8",
    "outputId": "012e0a51-714e-4a0d-8038-a2627d475044"
   },
   "outputs": [
    {
     "name": "stdout",
     "output_type": "stream",
     "text": [
      "0 1\n"
     ]
    }
   ],
   "source": [
    "from math import comb\n",
    "import itertools,random\n",
    "\n",
    "comb(3,2)\n",
    "\n",
    "import itertools,random\n",
    "\n",
    "    \n",
    "matchup = random.choice(list(itertools.combinations(fish_list,2)))\n",
    "print(matchup[0].name,matchup[1].name)"
   ]
  },
  {
   "cell_type": "code",
   "execution_count": null,
   "id": "db7abf9c",
   "metadata": {
    "id": "697087ed",
    "outputId": "862cd401-3925-4234-a9d1-b9b3266dd1b7"
   },
   "outputs": [
    {
     "name": "stdout",
     "output_type": "stream",
     "text": [
      "51.38907543508029\n",
      "51.49810024404117\n"
     ]
    },
    {
     "data": {
      "text/plain": [
       "(4.649298597194388, 2.034068136272545, 2.324649298597194)"
      ]
     },
     "execution_count": 426,
     "metadata": {},
     "output_type": "execute_result"
    },
    {
     "data": {
      "image/png": "[encoded data removed]",
      "text/plain": [
       "<Figure size 432x288 with 1 Axes>"
      ]
     },
     "metadata": {
      "needs_background": "light"
     },
     "output_type": "display_data"
    },
    {
     "data": {
      "image/png": "[encoded data removed]",
      "text/plain": [
       "<Figure size 432x288 with 1 Axes>"
      ]
     },
     "metadata": {
      "needs_background": "light"
     },
     "output_type": "display_data"
    }
   ],
   "source": [
    "loser = Fish('george')\n",
    "print(loser.size)\n",
    "lose_lose_lose(loser,opp_scale=1.1,plot_me=True)\n",
    "\n",
    "winner = Fish('barry')\n",
    "print(winner.size)\n",
    "win_win_win(winner,opp_scale=0.9,plot_me=True)"
   ]
  },
  {
   "cell_type": "code",
   "execution_count": null,
   "id": "bb9a7681",
   "metadata": {
    "id": "253999fd",
    "outputId": "b2053d71-75ba-485d-fd80-e826fafaccd4"
   },
   "outputs": [
    {
     "name": "stdout",
     "output_type": "stream",
     "text": [
      "entropy from loss: 0.37202357790785967\n",
      "shift from loss: -4.93987975951903\n",
      "93.33667334669339 > 88.39679358717436\n",
      "93.46647167633873 93.33667334669339\n",
      "entropy from win 0.7181659259427353\n",
      "shift from win: 4.9398797595190445\n",
      "93.33667334669339 > 98.27655310621243\n"
     ]
    },
    {
     "name": "stderr",
     "output_type": "stream",
     "text": [
      "/tmp/ipykernel_7584/498811729.py:35: UserWarning: Matplotlib is currently using module://matplotlib_inline.backend_inline, which is a non-GUI backend, so cannot show the figure.\n",
      "  fig.show()\n"
     ]
    },
    {
     "data": {
      "image/png": "[encoded data removed]",
      "text/plain": [
       "<Figure size 432x288 with 1 Axes>"
      ]
     },
     "metadata": {
      "needs_background": "light"
     },
     "output_type": "display_data"
    }
   ],
   "source": [
    "age = 200\n",
    "loser = Fish('mitch',age=age,size=0)\n",
    "winner = Fish('barack',age=age,size=0)\n",
    "\n",
    "prior_l = loser.prior\n",
    "est_l0 = loser.estimate\n",
    "post_l,est_l1 = loser.update_prior(False,loser.size*1.1364)\n",
    "\n",
    "post_l_ = loser.prior\n",
    "\n",
    "fig,ax = plt.subplots()\n",
    "ax.plot(loser.xs,prior_l)\n",
    "ax.plot(loser.xs,post_l)\n",
    "\n",
    "\n",
    "print(\"entropy from loss:\",np.sum(rel_entr(prior_l,post_l)))\n",
    "#print(\"same?\",post_l == post_l_)\n",
    "\n",
    "print(\"shift from loss:\",est_l1 - est_l0)\n",
    "print(est_l0,'>',est_l1)\n",
    "print(winner.size,winner.estimate)\n",
    "likelihood_w = define_likelihood(winner.estimate,winner.xs,True)\n",
    "likelihood_l = define_likelihood(winner.estimate,winner.xs,False)\n",
    "\n",
    "prior_w = winner.prior\n",
    "est_w0 = winner.estimate\n",
    "\n",
    "post_w,est_w1 = winner.update_prior(True,winner.size*0.88)\n",
    "post_w_ = winner.prior\n",
    "ax.plot(winner.xs,post_w)\n",
    "\n",
    "ax.plot(winner.xs,prior_w)\n",
    "ax.plot(winner.xs,likelihood_w/10)\n",
    "ax.plot(winner.xs,likelihood_l/10)\n",
    "fig.show()\n",
    "\n",
    "print(\"entropy from win\",np.sum(rel_entr(prior_w,post_w)))\n",
    "#print(\"same?\",post_w == post_w_)\n",
    "print(\"shift from win:\",est_w1 - est_w0)\n",
    "print(est_w0,'>',est_w1)"
   ]
  },
  {
   "cell_type": "code",
   "execution_count": 6,
   "id": "f6172931",
   "metadata": {
    "id": "b5dd98ca",
    "outputId": "8c45284f-616c-4d9d-eb2c-db66f71745f6"
   },
   "outputs": [
    {
     "name": "stderr",
     "output_type": "stream",
     "text": [
      "/tmp/ipykernel_184921/347228682.py:36: UserWarning: Matplotlib is currently using module://matplotlib_inline.backend_inline, which is a non-GUI backend, so cannot show the figure.\n",
      "  fig.show()\n"
     ]
    },
    {
     "data": {
      "image/png": "[encoded data removed]",
      "text/plain": [
       "<Figure size 432x288 with 1 Axes>"
      ]
     },
     "metadata": {
      "needs_background": "light"
     },
     "output_type": "display_data"
    }
   ],
   "source": [
    "## Win, lose vs lose, win:\n",
    "## It's the same, prior result showing that it was different was driven by a typo.\n",
    "\n",
    "def update_(prior,likelihood,xs = np.arange(5,150)):\n",
    "    post = prior * likelihood\n",
    "    #post = post / auc(xs,post)\n",
    "    post = post / np.sum(post)\n",
    "    return post\n",
    "\n",
    "xs = np.arange(5,150)\n",
    "t = 100\n",
    "x_opp = 90\n",
    "win = False\n",
    "prior = prior_size(t,xs)\n",
    "\n",
    "likelihood_w = np.zeros_like(prior)\n",
    "likelihood_l = np.zeros_like(prior)\n",
    "\n",
    "for s in range(len(likelihood_w)):\n",
    "    likelihood_w[s] = likelihood_function_size(s,x_opp)  \n",
    "    likelihood_l[s] = 1-likelihood_function_size(s,x_opp)\n",
    "    \n",
    "wl_post = update_(prior,likelihood_w)\n",
    "wl_post = update_(wl_post,likelihood_l)\n",
    "\n",
    "lw_post = update_(prior,likelihood_l)\n",
    "lw_post = update_(lw_post,likelihood_w)\n",
    "\n",
    "fig,ax = plt.subplots()\n",
    "\n",
    "ax.plot(xs,prior,color='blue',label='prior')\n",
    "ax.plot(xs,lw_post,color='green',label='win second')\n",
    "ax.plot(xs,wl_post,color='red',label='win first')\n",
    "\n",
    "fig.legend()\n",
    "fig.show()\n"
   ]
  },
  {
   "cell_type": "code",
   "execution_count": 38,
   "id": "772c41cc",
   "metadata": {},
   "outputs": [
    {
     "name": "stdout",
     "output_type": "stream",
     "text": [
      "0\n"
     ]
    },
    {
     "name": "stderr",
     "output_type": "stream",
     "text": [
      "/tmp/ipykernel_184921/3243935609.py:32: UserWarning: Matplotlib is currently using module://matplotlib_inline.backend_inline, which is a non-GUI backend, so cannot show the figure.\n",
      "  fig.show()\n"
     ]
    },
    {
     "data": {
      "image/png": "[encoded data removed]",
      "text/plain": [
       "<Figure size 432x288 with 1 Axes>"
      ]
     },
     "metadata": {
      "needs_background": "light"
     },
     "output_type": "display_data"
    }
   ],
   "source": [
    "from fish import Fish\n",
    "from fight import Fight\n",
    "import copy\n",
    "\n",
    "wl_fish = Fish(age=50,size=45)\n",
    "lw_fish = copy.deepcopy(wl_fish)\n",
    "match_fish = copy.deepcopy(wl_fish)\n",
    "winlose_0 = Fight(wl_fish,match_fish,outcome=0)\n",
    "winlose_1 = Fight(wl_fish,match_fish,outcome=1)\n",
    "\n",
    "winlose_0.run_outcome()\n",
    "winlose_1.run_outcome()\n",
    "\n",
    "\n",
    "losewin_0 = Fight(lw_fish,match_fish,outcome=1)\n",
    "losewin_1 = Fight(lw_fish,match_fish,outcome=0)\n",
    "losewin_0.run_outcome()\n",
    "losewin_1.run_outcome()\n",
    "\n",
    "fig,ax = plt.subplots()\n",
    "wl_fish.plot_prior(ax)\n",
    "wl_fish.update(1,winlose_0)\n",
    "wl_fish.plot_prior(ax)\n",
    "wl_fish.update(0,winlose_1)\n",
    "wl_fish.plot_prior(ax)\n",
    "\n",
    "test = wl_fish.prior + wl_fish.naive_prior * .5\n",
    "test = test / np.sum(test)\n",
    "ax.plot(wl_fish.xs,test,label='decay')\n",
    "\n",
    "ax.legend()\n",
    "fig.show()\n",
    "if False:\n",
    "    lw_fish.plot_prior(ax)\n",
    "    lw_fish.update(0,losewin_0)\n",
    "    lw_fish.plot_prior(ax)\n",
    "    lw_fish.update(1,losewin_1)\n",
    "    lw_fish.plot_prior(ax)\n",
    "\n",
    "print(wl_fish.idx)"
   ]
  },
  {
   "cell_type": "code",
   "execution_count": null,
   "id": "c611fcb0",
   "metadata": {
    "id": "2dbefc5a"
   },
   "outputs": [],
   "source": [
    "## How long does the winner effect persist? \n",
    "\n",
    "# Win or lose the first fight, then "
   ]
  },
  {
   "cell_type": "code",
   "execution_count": null,
   "id": "7a9d141c",
   "metadata": {
    "id": "4ca48205",
    "outputId": "5f89830f-5915-42f6-d40f-bb8a18171208"
   },
   "outputs": [
    {
     "name": "stderr",
     "output_type": "stream",
     "text": [
      "/tmp/ipykernel_7584/1901349285.py:19: UserWarning: Matplotlib is currently using module://matplotlib_inline.backend_inline, which is a non-GUI backend, so cannot show the figure.\n",
      "  fig.show()\n"
     ]
    },
    {
     "data": {
      "image/png": "[encoded data removed]",
      "text/plain": [
       "<Figure size 432x288 with 1 Axes>"
      ]
     },
     "metadata": {
      "needs_background": "light"
     },
     "output_type": "display_data"
    }
   ],
   "source": [
    "## Old stuff\n",
    "\n",
    "def size(n_days):\n",
    "    max_size = 100\n",
    "    size = days / 5\n",
    "    return size\n",
    "\n",
    "def growth(s0):\n",
    "    max_size = 100\n",
    "    s1 = s0 + (max_size - s0) / 100\n",
    "    return s1\n",
    "\n",
    "s = 7\n",
    "t = 0\n",
    "fig,ax = plt.subplots()\n",
    "while s < 100 and t < 360:\n",
    "    t += 1\n",
    "    s = growth(s)\n",
    "    ax.scatter(t,s)\n",
    "    \n",
    "fig.show()"
   ]
  },
  {
   "cell_type": "code",
   "execution_count": null,
   "id": "fa3d5d3b",
   "metadata": {
    "id": "cc3c2ce1"
   },
   "outputs": [],
   "source": [
    "## Growth is super complicated, for now, assume that, at any given point, there is no growth \n",
    "# I think a key insight here is going to be that variable growth is really what drives these dynamics."
   ]
  }
 ],
 "metadata": {
  "colab": {
   "collapsed_sections": [],
   "name": "BayesFights.ipynb",
   "provenance": []
  },
  "kernelspec": {
   "display_name": "Python 3 (ipykernel)",
   "language": "python",
   "name": "python3"
  },
  "language_info": {
   "codemirror_mode": {
    "name": "ipython",
    "version": 3
   },
   "file_extension": ".py",
   "mimetype": "text/x-python",
   "name": "python",
   "nbconvert_exporter": "python",
   "pygments_lexer": "ipython3",
   "version": "3.9.7"
  }
 },
 "nbformat": 4,
 "nbformat_minor": 5
}
